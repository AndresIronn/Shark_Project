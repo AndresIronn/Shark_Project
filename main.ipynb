{
 "cells": [
  {
   "cell_type": "code",
   "execution_count": 282,
   "id": "c5357c7e-15ca-4208-83fa-a4831b546ced",
   "metadata": {},
   "outputs": [],
   "source": [
    "import pandas as pd\n",
    "import numpy as np\n",
    "import seaborn as sns\n",
    "import matplotlib.pyplot as plt"
   ]
  },
  {
   "cell_type": "code",
   "execution_count": 283,
   "id": "7c26badc-e4b3-4248-8497-a118ffd67947",
   "metadata": {},
   "outputs": [],
   "source": [
    "attack=pd.read_csv(\"datasets/attacks.csv\",encoding=\"cp1252\")"
   ]
  },
  {
   "cell_type": "code",
   "execution_count": 284,
   "id": "160bcc01-364f-4c1a-afc7-ad45e2994bc5",
   "metadata": {},
   "outputs": [
    {
     "data": {
      "text/html": [
       "<div>\n",
       "<style scoped>\n",
       "    .dataframe tbody tr th:only-of-type {\n",
       "        vertical-align: middle;\n",
       "    }\n",
       "\n",
       "    .dataframe tbody tr th {\n",
       "        vertical-align: top;\n",
       "    }\n",
       "\n",
       "    .dataframe thead th {\n",
       "        text-align: right;\n",
       "    }\n",
       "</style>\n",
       "<table border=\"1\" class=\"dataframe\">\n",
       "  <thead>\n",
       "    <tr style=\"text-align: right;\">\n",
       "      <th></th>\n",
       "      <th>Case Number</th>\n",
       "      <th>Date</th>\n",
       "      <th>Year</th>\n",
       "      <th>Type</th>\n",
       "      <th>Country</th>\n",
       "      <th>Area</th>\n",
       "      <th>Location</th>\n",
       "      <th>Activity</th>\n",
       "      <th>Name</th>\n",
       "      <th>Sex</th>\n",
       "      <th>...</th>\n",
       "      <th>Species</th>\n",
       "      <th>Investigator or Source</th>\n",
       "      <th>pdf</th>\n",
       "      <th>href formula</th>\n",
       "      <th>href</th>\n",
       "      <th>Case Number.1</th>\n",
       "      <th>Case Number.2</th>\n",
       "      <th>original order</th>\n",
       "      <th>Unnamed: 22</th>\n",
       "      <th>Unnamed: 23</th>\n",
       "    </tr>\n",
       "  </thead>\n",
       "  <tbody>\n",
       "    <tr>\n",
       "      <th>0</th>\n",
       "      <td>2018.06.25</td>\n",
       "      <td>25-Jun-2018</td>\n",
       "      <td>2018.0</td>\n",
       "      <td>Boating</td>\n",
       "      <td>USA</td>\n",
       "      <td>California</td>\n",
       "      <td>Oceanside, San Diego County</td>\n",
       "      <td>Paddling</td>\n",
       "      <td>Julie Wolfe</td>\n",
       "      <td>F</td>\n",
       "      <td>...</td>\n",
       "      <td>White shark</td>\n",
       "      <td>R. Collier, GSAF</td>\n",
       "      <td>2018.06.25-Wolfe.pdf</td>\n",
       "      <td>http://sharkattackfile.net/spreadsheets/pdf_di...</td>\n",
       "      <td>http://sharkattackfile.net/spreadsheets/pdf_di...</td>\n",
       "      <td>2018.06.25</td>\n",
       "      <td>2018.06.25</td>\n",
       "      <td>6303.0</td>\n",
       "      <td>NaN</td>\n",
       "      <td>NaN</td>\n",
       "    </tr>\n",
       "    <tr>\n",
       "      <th>1</th>\n",
       "      <td>2018.06.18</td>\n",
       "      <td>18-Jun-2018</td>\n",
       "      <td>2018.0</td>\n",
       "      <td>Unprovoked</td>\n",
       "      <td>USA</td>\n",
       "      <td>Georgia</td>\n",
       "      <td>St. Simon Island, Glynn County</td>\n",
       "      <td>Standing</td>\n",
       "      <td>Adyson McNeely</td>\n",
       "      <td>F</td>\n",
       "      <td>...</td>\n",
       "      <td>NaN</td>\n",
       "      <td>K.McMurray, TrackingSharks.com</td>\n",
       "      <td>2018.06.18-McNeely.pdf</td>\n",
       "      <td>http://sharkattackfile.net/spreadsheets/pdf_di...</td>\n",
       "      <td>http://sharkattackfile.net/spreadsheets/pdf_di...</td>\n",
       "      <td>2018.06.18</td>\n",
       "      <td>2018.06.18</td>\n",
       "      <td>6302.0</td>\n",
       "      <td>NaN</td>\n",
       "      <td>NaN</td>\n",
       "    </tr>\n",
       "    <tr>\n",
       "      <th>2</th>\n",
       "      <td>2018.06.09</td>\n",
       "      <td>09-Jun-2018</td>\n",
       "      <td>2018.0</td>\n",
       "      <td>Invalid</td>\n",
       "      <td>USA</td>\n",
       "      <td>Hawaii</td>\n",
       "      <td>Habush, Oahu</td>\n",
       "      <td>Surfing</td>\n",
       "      <td>John Denges</td>\n",
       "      <td>M</td>\n",
       "      <td>...</td>\n",
       "      <td>NaN</td>\n",
       "      <td>K.McMurray, TrackingSharks.com</td>\n",
       "      <td>2018.06.09-Denges.pdf</td>\n",
       "      <td>http://sharkattackfile.net/spreadsheets/pdf_di...</td>\n",
       "      <td>http://sharkattackfile.net/spreadsheets/pdf_di...</td>\n",
       "      <td>2018.06.09</td>\n",
       "      <td>2018.06.09</td>\n",
       "      <td>6301.0</td>\n",
       "      <td>NaN</td>\n",
       "      <td>NaN</td>\n",
       "    </tr>\n",
       "  </tbody>\n",
       "</table>\n",
       "<p>3 rows × 24 columns</p>\n",
       "</div>"
      ],
      "text/plain": [
       "  Case Number         Date    Year        Type Country        Area  \\\n",
       "0  2018.06.25  25-Jun-2018  2018.0     Boating     USA  California   \n",
       "1  2018.06.18  18-Jun-2018  2018.0  Unprovoked     USA     Georgia   \n",
       "2  2018.06.09  09-Jun-2018  2018.0     Invalid     USA      Hawaii   \n",
       "\n",
       "                         Location  Activity             Name Sex   ...  \\\n",
       "0     Oceanside, San Diego County  Paddling      Julie Wolfe    F  ...   \n",
       "1  St. Simon Island, Glynn County  Standing  Adyson McNeely     F  ...   \n",
       "2                    Habush, Oahu   Surfing      John Denges    M  ...   \n",
       "\n",
       "      Species           Investigator or Source                     pdf  \\\n",
       "0  White shark                R. Collier, GSAF    2018.06.25-Wolfe.pdf   \n",
       "1          NaN  K.McMurray, TrackingSharks.com  2018.06.18-McNeely.pdf   \n",
       "2          NaN  K.McMurray, TrackingSharks.com   2018.06.09-Denges.pdf   \n",
       "\n",
       "                                        href formula  \\\n",
       "0  http://sharkattackfile.net/spreadsheets/pdf_di...   \n",
       "1  http://sharkattackfile.net/spreadsheets/pdf_di...   \n",
       "2  http://sharkattackfile.net/spreadsheets/pdf_di...   \n",
       "\n",
       "                                                href Case Number.1  \\\n",
       "0  http://sharkattackfile.net/spreadsheets/pdf_di...    2018.06.25   \n",
       "1  http://sharkattackfile.net/spreadsheets/pdf_di...    2018.06.18   \n",
       "2  http://sharkattackfile.net/spreadsheets/pdf_di...    2018.06.09   \n",
       "\n",
       "  Case Number.2 original order Unnamed: 22 Unnamed: 23  \n",
       "0    2018.06.25         6303.0         NaN         NaN  \n",
       "1    2018.06.18         6302.0         NaN         NaN  \n",
       "2    2018.06.09         6301.0         NaN         NaN  \n",
       "\n",
       "[3 rows x 24 columns]"
      ]
     },
     "execution_count": 284,
     "metadata": {},
     "output_type": "execute_result"
    }
   ],
   "source": [
    "attack.head(3)"
   ]
  },
  {
   "cell_type": "markdown",
   "id": "fd9fde5a-a9a1-4158-a25b-fc5e7ea925ef",
   "metadata": {},
   "source": [
    "## **DATA CLEANING AND EXPLORATION**"
   ]
  },
  {
   "cell_type": "markdown",
   "id": "64c9f430-03b1-44b5-9a47-9acfaf097517",
   "metadata": {},
   "source": [
    "Comencemos explorando el DataFrame para luego hacerle una limpieza y poder pasar a la sección de Análisis."
   ]
  },
  {
   "cell_type": "code",
   "execution_count": 285,
   "id": "1adeff33-e027-4bd1-8ad1-9ddcd2ec040a",
   "metadata": {},
   "outputs": [
    {
     "name": "stdout",
     "output_type": "stream",
     "text": [
      "<class 'pandas.core.frame.DataFrame'>\n",
      "RangeIndex: 25723 entries, 0 to 25722\n",
      "Data columns (total 24 columns):\n",
      " #   Column                  Non-Null Count  Dtype  \n",
      "---  ------                  --------------  -----  \n",
      " 0   Case Number             8702 non-null   object \n",
      " 1   Date                    6302 non-null   object \n",
      " 2   Year                    6300 non-null   float64\n",
      " 3   Type                    6298 non-null   object \n",
      " 4   Country                 6252 non-null   object \n",
      " 5   Area                    5847 non-null   object \n",
      " 6   Location                5762 non-null   object \n",
      " 7   Activity                5758 non-null   object \n",
      " 8   Name                    6092 non-null   object \n",
      " 9   Sex                     5737 non-null   object \n",
      " 10  Age                     3471 non-null   object \n",
      " 11  Injury                  6274 non-null   object \n",
      " 12  Fatal (Y/N)             5763 non-null   object \n",
      " 13  Time                    2948 non-null   object \n",
      " 14  Species                 3464 non-null   object \n",
      " 15  Investigator or Source  6285 non-null   object \n",
      " 16  pdf                     6302 non-null   object \n",
      " 17  href formula            6301 non-null   object \n",
      " 18  href                    6302 non-null   object \n",
      " 19  Case Number.1           6302 non-null   object \n",
      " 20  Case Number.2           6302 non-null   object \n",
      " 21  original order          6309 non-null   float64\n",
      " 22  Unnamed: 22             1 non-null      object \n",
      " 23  Unnamed: 23             2 non-null      object \n",
      "dtypes: float64(2), object(22)\n",
      "memory usage: 4.7+ MB\n"
     ]
    }
   ],
   "source": [
    "attack.info()"
   ]
  },
  {
   "cell_type": "code",
   "execution_count": 286,
   "id": "fc08e0d8-0429-406e-857c-5c32a45f4769",
   "metadata": {},
   "outputs": [
    {
     "data": {
      "text/plain": [
       "(25723, 24)"
      ]
     },
     "execution_count": 286,
     "metadata": {},
     "output_type": "execute_result"
    }
   ],
   "source": [
    "attack.shape"
   ]
  },
  {
   "cell_type": "code",
   "execution_count": 287,
   "id": "c6e17524-6233-41e7-a335-7aaae981ae28",
   "metadata": {},
   "outputs": [
    {
     "data": {
      "text/plain": [
       "Case Number               17021\n",
       "Date                      19421\n",
       "Year                      19423\n",
       "Type                      19425\n",
       "Country                   19471\n",
       "Area                      19876\n",
       "Location                  19961\n",
       "Activity                  19965\n",
       "Name                      19631\n",
       "Sex                       19986\n",
       "Age                       22252\n",
       "Injury                    19449\n",
       "Fatal (Y/N)               19960\n",
       "Time                      22775\n",
       "Species                   22259\n",
       "Investigator or Source    19438\n",
       "pdf                       19421\n",
       "href formula              19422\n",
       "href                      19421\n",
       "Case Number.1             19421\n",
       "Case Number.2             19421\n",
       "original order            19414\n",
       "Unnamed: 22               25722\n",
       "Unnamed: 23               25721\n",
       "dtype: int64"
      ]
     },
     "execution_count": 287,
     "metadata": {},
     "output_type": "execute_result"
    }
   ],
   "source": [
    "attack.isna().sum() #La cantidad de nulos en el DataFrame es muy alta."
   ]
  },
  {
   "cell_type": "code",
   "execution_count": 288,
   "id": "6756dac7-4c89-497f-89fb-b5933840e0d9",
   "metadata": {},
   "outputs": [
    {
     "data": {
      "text/plain": [
       "Index(['Case Number', 'Date', 'Year', 'Type', 'Country', 'Area', 'Location',\n",
       "       'Activity', 'Name', 'Sex ', 'Age', 'Injury', 'Fatal (Y/N)', 'Time',\n",
       "       'Species ', 'Investigator or Source', 'pdf', 'href formula', 'href',\n",
       "       'Case Number.1', 'Case Number.2', 'original order', 'Unnamed: 22',\n",
       "       'Unnamed: 23'],\n",
       "      dtype='object')"
      ]
     },
     "execution_count": 288,
     "metadata": {},
     "output_type": "execute_result"
    }
   ],
   "source": [
    "attack.columns"
   ]
  },
  {
   "cell_type": "markdown",
   "id": "5a949ee6-e078-47bd-938c-9034dc270477",
   "metadata": {},
   "source": [
    "Quito los espacios que están al final en los nombres de las columnas Species y Sex."
   ]
  },
  {
   "cell_type": "code",
   "execution_count": 289,
   "id": "48ba625f-57ac-46f3-9fbf-60016b58922d",
   "metadata": {},
   "outputs": [],
   "source": [
    "attack.rename(columns={\"Species \":\"Species\", \"Sex \":\"Sex\"}, inplace=True)"
   ]
  },
  {
   "cell_type": "code",
   "execution_count": 290,
   "id": "8fe77472-81da-4539-ab5f-05edfd79a10a",
   "metadata": {},
   "outputs": [
    {
     "data": {
      "text/plain": [
       "Index(['Case Number', 'Date', 'Year', 'Type', 'Country', 'Area', 'Location',\n",
       "       'Activity', 'Name', 'Sex', 'Age', 'Injury', 'Fatal (Y/N)', 'Time',\n",
       "       'Species', 'Investigator or Source', 'pdf', 'href formula', 'href',\n",
       "       'Case Number.1', 'Case Number.2', 'original order', 'Unnamed: 22',\n",
       "       'Unnamed: 23'],\n",
       "      dtype='object')"
      ]
     },
     "execution_count": 290,
     "metadata": {},
     "output_type": "execute_result"
    }
   ],
   "source": [
    "attack.columns"
   ]
  },
  {
   "cell_type": "markdown",
   "id": "9263e3ca-2359-4ffe-858a-ebd664ad9347",
   "metadata": {},
   "source": [
    "### Duplicated Rows"
   ]
  },
  {
   "cell_type": "markdown",
   "id": "397f1a01-6cab-4531-82a6-3148189787ce",
   "metadata": {},
   "source": [
    "Visualizar datos duplicados:"
   ]
  },
  {
   "cell_type": "code",
   "execution_count": 291,
   "id": "90bca6c7-d14c-4385-a42a-36707d789139",
   "metadata": {},
   "outputs": [
    {
     "data": {
      "text/html": [
       "<div>\n",
       "<style scoped>\n",
       "    .dataframe tbody tr th:only-of-type {\n",
       "        vertical-align: middle;\n",
       "    }\n",
       "\n",
       "    .dataframe tbody tr th {\n",
       "        vertical-align: top;\n",
       "    }\n",
       "\n",
       "    .dataframe thead th {\n",
       "        text-align: right;\n",
       "    }\n",
       "</style>\n",
       "<table border=\"1\" class=\"dataframe\">\n",
       "  <thead>\n",
       "    <tr style=\"text-align: right;\">\n",
       "      <th></th>\n",
       "      <th>Case Number</th>\n",
       "      <th>Date</th>\n",
       "      <th>Year</th>\n",
       "      <th>Type</th>\n",
       "      <th>Country</th>\n",
       "      <th>Area</th>\n",
       "      <th>Location</th>\n",
       "      <th>Activity</th>\n",
       "      <th>Name</th>\n",
       "      <th>Sex</th>\n",
       "      <th>...</th>\n",
       "      <th>Species</th>\n",
       "      <th>Investigator or Source</th>\n",
       "      <th>pdf</th>\n",
       "      <th>href formula</th>\n",
       "      <th>href</th>\n",
       "      <th>Case Number.1</th>\n",
       "      <th>Case Number.2</th>\n",
       "      <th>original order</th>\n",
       "      <th>Unnamed: 22</th>\n",
       "      <th>Unnamed: 23</th>\n",
       "    </tr>\n",
       "  </thead>\n",
       "  <tbody>\n",
       "    <tr>\n",
       "      <th>6310</th>\n",
       "      <td>0</td>\n",
       "      <td>NaN</td>\n",
       "      <td>NaN</td>\n",
       "      <td>NaN</td>\n",
       "      <td>NaN</td>\n",
       "      <td>NaN</td>\n",
       "      <td>NaN</td>\n",
       "      <td>NaN</td>\n",
       "      <td>NaN</td>\n",
       "      <td>NaN</td>\n",
       "      <td>...</td>\n",
       "      <td>NaN</td>\n",
       "      <td>NaN</td>\n",
       "      <td>NaN</td>\n",
       "      <td>NaN</td>\n",
       "      <td>NaN</td>\n",
       "      <td>NaN</td>\n",
       "      <td>NaN</td>\n",
       "      <td>NaN</td>\n",
       "      <td>NaN</td>\n",
       "      <td>NaN</td>\n",
       "    </tr>\n",
       "    <tr>\n",
       "      <th>6311</th>\n",
       "      <td>0</td>\n",
       "      <td>NaN</td>\n",
       "      <td>NaN</td>\n",
       "      <td>NaN</td>\n",
       "      <td>NaN</td>\n",
       "      <td>NaN</td>\n",
       "      <td>NaN</td>\n",
       "      <td>NaN</td>\n",
       "      <td>NaN</td>\n",
       "      <td>NaN</td>\n",
       "      <td>...</td>\n",
       "      <td>NaN</td>\n",
       "      <td>NaN</td>\n",
       "      <td>NaN</td>\n",
       "      <td>NaN</td>\n",
       "      <td>NaN</td>\n",
       "      <td>NaN</td>\n",
       "      <td>NaN</td>\n",
       "      <td>NaN</td>\n",
       "      <td>NaN</td>\n",
       "      <td>NaN</td>\n",
       "    </tr>\n",
       "    <tr>\n",
       "      <th>6312</th>\n",
       "      <td>0</td>\n",
       "      <td>NaN</td>\n",
       "      <td>NaN</td>\n",
       "      <td>NaN</td>\n",
       "      <td>NaN</td>\n",
       "      <td>NaN</td>\n",
       "      <td>NaN</td>\n",
       "      <td>NaN</td>\n",
       "      <td>NaN</td>\n",
       "      <td>NaN</td>\n",
       "      <td>...</td>\n",
       "      <td>NaN</td>\n",
       "      <td>NaN</td>\n",
       "      <td>NaN</td>\n",
       "      <td>NaN</td>\n",
       "      <td>NaN</td>\n",
       "      <td>NaN</td>\n",
       "      <td>NaN</td>\n",
       "      <td>NaN</td>\n",
       "      <td>NaN</td>\n",
       "      <td>NaN</td>\n",
       "    </tr>\n",
       "  </tbody>\n",
       "</table>\n",
       "<p>3 rows × 24 columns</p>\n",
       "</div>"
      ],
      "text/plain": [
       "     Case Number Date  Year Type Country Area Location Activity Name  Sex  \\\n",
       "6310           0  NaN   NaN  NaN     NaN  NaN      NaN      NaN  NaN  NaN   \n",
       "6311           0  NaN   NaN  NaN     NaN  NaN      NaN      NaN  NaN  NaN   \n",
       "6312           0  NaN   NaN  NaN     NaN  NaN      NaN      NaN  NaN  NaN   \n",
       "\n",
       "      ... Species Investigator or Source  pdf href formula href Case Number.1  \\\n",
       "6310  ...     NaN                    NaN  NaN          NaN  NaN           NaN   \n",
       "6311  ...     NaN                    NaN  NaN          NaN  NaN           NaN   \n",
       "6312  ...     NaN                    NaN  NaN          NaN  NaN           NaN   \n",
       "\n",
       "     Case Number.2 original order Unnamed: 22 Unnamed: 23  \n",
       "6310           NaN            NaN         NaN         NaN  \n",
       "6311           NaN            NaN         NaN         NaN  \n",
       "6312           NaN            NaN         NaN         NaN  \n",
       "\n",
       "[3 rows x 24 columns]"
      ]
     },
     "execution_count": 291,
     "metadata": {},
     "output_type": "execute_result"
    }
   ],
   "source": [
    "duplicados=attack.duplicated()  \n",
    "datos_duplicados=attack[duplicados]\n",
    "datos_duplicados.head(3)"
   ]
  },
  {
   "cell_type": "code",
   "execution_count": 292,
   "id": "f61f0320-e51b-420f-9ab0-3667f7eec03a",
   "metadata": {},
   "outputs": [
    {
     "data": {
      "text/plain": [
       "(6312, 24)"
      ]
     },
     "execution_count": 292,
     "metadata": {},
     "output_type": "execute_result"
    }
   ],
   "source": [
    "attack.drop_duplicates(inplace=True) #Eliminar datos duplicados\n",
    "attack.shape  #El data frame perdió 19 mil filas aprox"
   ]
  },
  {
   "cell_type": "code",
   "execution_count": 293,
   "id": "78bb402f-9048-4b6b-b867-4150d2b1cc16",
   "metadata": {},
   "outputs": [
    {
     "data": {
      "text/plain": [
       "Case Number                  2\n",
       "Date                        10\n",
       "Year                        12\n",
       "Type                        14\n",
       "Country                     60\n",
       "Area                       465\n",
       "Location                   550\n",
       "Activity                   554\n",
       "Name                       220\n",
       "Sex                        575\n",
       "Age                       2841\n",
       "Injury                      38\n",
       "Fatal (Y/N)                549\n",
       "Time                      3364\n",
       "Species                   2848\n",
       "Investigator or Source      27\n",
       "pdf                         10\n",
       "href formula                11\n",
       "href                        10\n",
       "Case Number.1               10\n",
       "Case Number.2               10\n",
       "original order               3\n",
       "Unnamed: 22               6311\n",
       "Unnamed: 23               6310\n",
       "dtype: int64"
      ]
     },
     "execution_count": 293,
     "metadata": {},
     "output_type": "execute_result"
    }
   ],
   "source": [
    "attack.isna().sum()  #Bajó la cantidad de nulos pero sigue siendo significativa."
   ]
  },
  {
   "cell_type": "markdown",
   "id": "b1371de0-0326-4336-b1cc-3dde39aa9fda",
   "metadata": {},
   "source": [
    "### Duplicated Columns"
   ]
  },
  {
   "cell_type": "code",
   "execution_count": 294,
   "id": "8f4eea96-11bd-4f9b-b0fc-dada58ea761e",
   "metadata": {},
   "outputs": [
    {
     "data": {
      "text/plain": [
       "6312"
      ]
     },
     "execution_count": 294,
     "metadata": {},
     "output_type": "execute_result"
    }
   ],
   "source": [
    "attack.shape[0]"
   ]
  },
  {
   "cell_type": "markdown",
   "id": "fec00d53-bd04-4fc7-8d41-4fbd6ac2b17f",
   "metadata": {},
   "source": [
    "Las columnas Case Number coinciden en casi todos sus valores, se podría ver de dejar una sola, pero como no interesan para el posterior análisis, voy a borrar las 3."
   ]
  },
  {
   "cell_type": "code",
   "execution_count": 295,
   "id": "461128b9-c4bc-490f-8929-2d09185e8fe6",
   "metadata": {
    "tags": []
   },
   "outputs": [
    {
     "data": {
      "text/html": [
       "<div>\n",
       "<style scoped>\n",
       "    .dataframe tbody tr th:only-of-type {\n",
       "        vertical-align: middle;\n",
       "    }\n",
       "\n",
       "    .dataframe tbody tr th {\n",
       "        vertical-align: top;\n",
       "    }\n",
       "\n",
       "    .dataframe thead th {\n",
       "        text-align: right;\n",
       "    }\n",
       "</style>\n",
       "<table border=\"1\" class=\"dataframe\">\n",
       "  <thead>\n",
       "    <tr style=\"text-align: right;\">\n",
       "      <th></th>\n",
       "      <th>Date</th>\n",
       "      <th>Year</th>\n",
       "      <th>Type</th>\n",
       "      <th>Country</th>\n",
       "      <th>Area</th>\n",
       "      <th>Location</th>\n",
       "      <th>Activity</th>\n",
       "      <th>Name</th>\n",
       "      <th>Sex</th>\n",
       "      <th>Age</th>\n",
       "      <th>...</th>\n",
       "      <th>Fatal (Y/N)</th>\n",
       "      <th>Time</th>\n",
       "      <th>Species</th>\n",
       "      <th>Investigator or Source</th>\n",
       "      <th>pdf</th>\n",
       "      <th>href formula</th>\n",
       "      <th>href</th>\n",
       "      <th>original order</th>\n",
       "      <th>Unnamed: 22</th>\n",
       "      <th>Unnamed: 23</th>\n",
       "    </tr>\n",
       "  </thead>\n",
       "  <tbody>\n",
       "    <tr>\n",
       "      <th>3574</th>\n",
       "      <td>11-Jun-1966</td>\n",
       "      <td>1966.0</td>\n",
       "      <td>Provoked</td>\n",
       "      <td>USA</td>\n",
       "      <td>Florida</td>\n",
       "      <td>Ft. Lauderdale, Broward County</td>\n",
       "      <td>Fishing</td>\n",
       "      <td>Burton Chamberlin</td>\n",
       "      <td>M</td>\n",
       "      <td>18</td>\n",
       "      <td>...</td>\n",
       "      <td>N</td>\n",
       "      <td>09h00</td>\n",
       "      <td>1.2 m [4'] hammerhead shark</td>\n",
       "      <td>T. Bailey</td>\n",
       "      <td>1966.06.11-Chamberlin.pdf</td>\n",
       "      <td>http://sharkattackfile.net/spreadsheets/pdf_di...</td>\n",
       "      <td>http://sharkattackfile.net/spreadsheets/pdf_di...</td>\n",
       "      <td>2729.0</td>\n",
       "      <td>NaN</td>\n",
       "      <td>NaN</td>\n",
       "    </tr>\n",
       "  </tbody>\n",
       "</table>\n",
       "<p>1 rows × 21 columns</p>\n",
       "</div>"
      ],
      "text/plain": [
       "             Date    Year      Type Country     Area  \\\n",
       "3574  11-Jun-1966  1966.0  Provoked     USA  Florida   \n",
       "\n",
       "                            Location Activity               Name Sex Age  ...  \\\n",
       "3574  Ft. Lauderdale, Broward County  Fishing  Burton Chamberlin   M  18  ...   \n",
       "\n",
       "     Fatal (Y/N)   Time                      Species Investigator or Source  \\\n",
       "3574           N  09h00  1.2 m [4'] hammerhead shark              T. Bailey   \n",
       "\n",
       "                            pdf  \\\n",
       "3574  1966.06.11-Chamberlin.pdf   \n",
       "\n",
       "                                           href formula  \\\n",
       "3574  http://sharkattackfile.net/spreadsheets/pdf_di...   \n",
       "\n",
       "                                                   href original order  \\\n",
       "3574  http://sharkattackfile.net/spreadsheets/pdf_di...         2729.0   \n",
       "\n",
       "      Unnamed: 22 Unnamed: 23  \n",
       "3574          NaN         NaN  \n",
       "\n",
       "[1 rows x 21 columns]"
      ]
     },
     "execution_count": 295,
     "metadata": {},
     "output_type": "execute_result"
    }
   ],
   "source": [
    "attack.drop(columns=[\"Case Number\",\"Case Number.1\",\"Case Number.2\"],inplace=True)\n",
    "attack.sample()"
   ]
  },
  {
   "cell_type": "markdown",
   "id": "bb0ebc03-02a8-40a9-a199-e657457cc8e4",
   "metadata": {},
   "source": [
    "Sucede algo muy similar con las columnas \"href\" y \"href formula\" por lo que nuevamente se toma la determinación de eliminar las columnas."
   ]
  },
  {
   "cell_type": "code",
   "execution_count": 296,
   "id": "605d6dc0-27ad-438c-b592-3bdc3a520e96",
   "metadata": {},
   "outputs": [
    {
     "data": {
      "text/plain": [
       "(6242, 21)"
      ]
     },
     "execution_count": 296,
     "metadata": {},
     "output_type": "execute_result"
    }
   ],
   "source": [
    "(attack[\n",
    "    (attack[\"href\"] == attack[\"href formula\"])    \n",
    "].shape)"
   ]
  },
  {
   "cell_type": "code",
   "execution_count": 297,
   "id": "71651241-ff46-4128-be69-c97a38123f9a",
   "metadata": {},
   "outputs": [
    {
     "data": {
      "text/html": [
       "<div>\n",
       "<style scoped>\n",
       "    .dataframe tbody tr th:only-of-type {\n",
       "        vertical-align: middle;\n",
       "    }\n",
       "\n",
       "    .dataframe tbody tr th {\n",
       "        vertical-align: top;\n",
       "    }\n",
       "\n",
       "    .dataframe thead th {\n",
       "        text-align: right;\n",
       "    }\n",
       "</style>\n",
       "<table border=\"1\" class=\"dataframe\">\n",
       "  <thead>\n",
       "    <tr style=\"text-align: right;\">\n",
       "      <th></th>\n",
       "      <th>Date</th>\n",
       "      <th>Year</th>\n",
       "      <th>Type</th>\n",
       "      <th>Country</th>\n",
       "      <th>Area</th>\n",
       "      <th>Location</th>\n",
       "      <th>Activity</th>\n",
       "      <th>Name</th>\n",
       "      <th>Sex</th>\n",
       "      <th>Age</th>\n",
       "      <th>Injury</th>\n",
       "      <th>Fatal (Y/N)</th>\n",
       "      <th>Time</th>\n",
       "      <th>Species</th>\n",
       "      <th>Investigator or Source</th>\n",
       "      <th>pdf</th>\n",
       "      <th>original order</th>\n",
       "      <th>Unnamed: 22</th>\n",
       "      <th>Unnamed: 23</th>\n",
       "    </tr>\n",
       "  </thead>\n",
       "  <tbody>\n",
       "    <tr>\n",
       "      <th>4774</th>\n",
       "      <td>07-Jan-1940</td>\n",
       "      <td>1940.0</td>\n",
       "      <td>Unprovoked</td>\n",
       "      <td>SOUTH AFRICA</td>\n",
       "      <td>KwaZulu-Natal</td>\n",
       "      <td>Warner Beach, South Coast</td>\n",
       "      <td>Swimming</td>\n",
       "      <td>Frederick Aubrey Hooper</td>\n",
       "      <td>M</td>\n",
       "      <td>18</td>\n",
       "      <td>FATAL, leg &amp; thigh bitten</td>\n",
       "      <td>Y</td>\n",
       "      <td>16h00</td>\n",
       "      <td>2.4 m [8'] shark</td>\n",
       "      <td>R. Guy, T. Jucker &amp; M. Levine, GSAF</td>\n",
       "      <td>1940.01.07-Hooper.pdf</td>\n",
       "      <td>1529.0</td>\n",
       "      <td>NaN</td>\n",
       "      <td>NaN</td>\n",
       "    </tr>\n",
       "  </tbody>\n",
       "</table>\n",
       "</div>"
      ],
      "text/plain": [
       "             Date    Year        Type       Country           Area  \\\n",
       "4774  07-Jan-1940  1940.0  Unprovoked  SOUTH AFRICA  KwaZulu-Natal   \n",
       "\n",
       "                       Location   Activity                     Name Sex Age  \\\n",
       "4774  Warner Beach, South Coast  Swimming   Frederick Aubrey Hooper   M  18   \n",
       "\n",
       "                           Injury Fatal (Y/N)   Time           Species  \\\n",
       "4774  FATAL, leg & thigh bitten             Y  16h00  2.4 m [8'] shark   \n",
       "\n",
       "                     Investigator or Source                    pdf  \\\n",
       "4774  R. Guy, T. Jucker & M. Levine, GSAF    1940.01.07-Hooper.pdf   \n",
       "\n",
       "      original order Unnamed: 22 Unnamed: 23  \n",
       "4774          1529.0         NaN         NaN  "
      ]
     },
     "execution_count": 297,
     "metadata": {},
     "output_type": "execute_result"
    }
   ],
   "source": [
    "attack.drop(columns=[\"href\",\"href formula\"], inplace=True)\n",
    "attack.sample()"
   ]
  },
  {
   "cell_type": "markdown",
   "id": "3a8a1c5b-8622-4446-8d25-fb69646b11a1",
   "metadata": {},
   "source": [
    "Analicemos las columnas Unnamed 22 y 23:"
   ]
  },
  {
   "cell_type": "code",
   "execution_count": 298,
   "id": "59518f3d-b831-47b9-b9ad-e943f8b5681f",
   "metadata": {},
   "outputs": [
    {
     "data": {
      "text/plain": [
       "6312"
      ]
     },
     "execution_count": 298,
     "metadata": {},
     "output_type": "execute_result"
    }
   ],
   "source": [
    "attack.shape[0]"
   ]
  },
  {
   "cell_type": "code",
   "execution_count": 299,
   "id": "43cb4528-3ebe-45f4-9907-f1fb2217086c",
   "metadata": {},
   "outputs": [
    {
     "data": {
      "text/plain": [
       "Unnamed: 22    6311\n",
       "dtype: int64"
      ]
     },
     "execution_count": 299,
     "metadata": {},
     "output_type": "execute_result"
    }
   ],
   "source": [
    "attack[[\"Unnamed: 22\"]].isna().sum() "
   ]
  },
  {
   "cell_type": "markdown",
   "id": "ab9b5ed5-e3df-4348-ae7c-8d59d8722904",
   "metadata": {},
   "source": [
    "Hay 1 solo dato no nulo, veamos su contenido:"
   ]
  },
  {
   "cell_type": "code",
   "execution_count": 300,
   "id": "b32d243c-0d21-4b6e-b2ea-ad888bd6ae94",
   "metadata": {},
   "outputs": [
    {
     "data": {
      "text/html": [
       "<div>\n",
       "<style scoped>\n",
       "    .dataframe tbody tr th:only-of-type {\n",
       "        vertical-align: middle;\n",
       "    }\n",
       "\n",
       "    .dataframe tbody tr th {\n",
       "        vertical-align: top;\n",
       "    }\n",
       "\n",
       "    .dataframe thead th {\n",
       "        text-align: right;\n",
       "    }\n",
       "</style>\n",
       "<table border=\"1\" class=\"dataframe\">\n",
       "  <thead>\n",
       "    <tr style=\"text-align: right;\">\n",
       "      <th></th>\n",
       "      <th>Date</th>\n",
       "      <th>Year</th>\n",
       "      <th>Type</th>\n",
       "      <th>Country</th>\n",
       "      <th>Area</th>\n",
       "      <th>Location</th>\n",
       "      <th>Activity</th>\n",
       "      <th>Name</th>\n",
       "      <th>Sex</th>\n",
       "      <th>Age</th>\n",
       "      <th>Injury</th>\n",
       "      <th>Fatal (Y/N)</th>\n",
       "      <th>Time</th>\n",
       "      <th>Species</th>\n",
       "      <th>Investigator or Source</th>\n",
       "      <th>pdf</th>\n",
       "      <th>original order</th>\n",
       "      <th>Unnamed: 22</th>\n",
       "      <th>Unnamed: 23</th>\n",
       "    </tr>\n",
       "  </thead>\n",
       "  <tbody>\n",
       "    <tr>\n",
       "      <th>1478</th>\n",
       "      <td>27-May-2006</td>\n",
       "      <td>2006.0</td>\n",
       "      <td>Unprovoked</td>\n",
       "      <td>USA</td>\n",
       "      <td>Hawaii</td>\n",
       "      <td>North Shore, O'ahu</td>\n",
       "      <td>Surfing</td>\n",
       "      <td>Bret Desmond</td>\n",
       "      <td>M</td>\n",
       "      <td>31</td>\n",
       "      <td>No injury, shark bumped surfboard</td>\n",
       "      <td>N</td>\n",
       "      <td>16h00</td>\n",
       "      <td>NaN</td>\n",
       "      <td>R. Collier</td>\n",
       "      <td>2006.05.27-Desmond.pdf</td>\n",
       "      <td>4825.0</td>\n",
       "      <td>stopped here</td>\n",
       "      <td>NaN</td>\n",
       "    </tr>\n",
       "  </tbody>\n",
       "</table>\n",
       "</div>"
      ],
      "text/plain": [
       "             Date    Year        Type Country    Area            Location  \\\n",
       "1478  27-May-2006  2006.0  Unprovoked     USA  Hawaii  North Shore, O'ahu   \n",
       "\n",
       "     Activity          Name Sex Age                             Injury  \\\n",
       "1478  Surfing  Bret Desmond   M  31  No injury, shark bumped surfboard   \n",
       "\n",
       "     Fatal (Y/N)   Time Species Investigator or Source  \\\n",
       "1478           N  16h00     NaN             R. Collier   \n",
       "\n",
       "                         pdf  original order   Unnamed: 22 Unnamed: 23  \n",
       "1478  2006.05.27-Desmond.pdf          4825.0  stopped here         NaN  "
      ]
     },
     "metadata": {},
     "output_type": "display_data"
    }
   ],
   "source": [
    "display(attack[attack[\"Unnamed: 22\"].notna()])"
   ]
  },
  {
   "cell_type": "code",
   "execution_count": 301,
   "id": "eace7617-a9a7-40dd-bd03-039eb2167fc1",
   "metadata": {},
   "outputs": [
    {
     "data": {
      "text/plain": [
       "Unnamed: 23    6310\n",
       "dtype: int64"
      ]
     },
     "execution_count": 301,
     "metadata": {},
     "output_type": "execute_result"
    }
   ],
   "source": [
    "attack[[\"Unnamed: 23\"]].isna().sum() "
   ]
  },
  {
   "cell_type": "markdown",
   "id": "d025993e-c706-4959-8347-80d4de8041f2",
   "metadata": {},
   "source": [
    "Hay solo 2 datos no nulos, veamos su contenido"
   ]
  },
  {
   "cell_type": "code",
   "execution_count": 302,
   "id": "983a84f7-60f9-45ab-9339-dd46551eeb8e",
   "metadata": {},
   "outputs": [
    {
     "data": {
      "text/html": [
       "<div>\n",
       "<style scoped>\n",
       "    .dataframe tbody tr th:only-of-type {\n",
       "        vertical-align: middle;\n",
       "    }\n",
       "\n",
       "    .dataframe tbody tr th {\n",
       "        vertical-align: top;\n",
       "    }\n",
       "\n",
       "    .dataframe thead th {\n",
       "        text-align: right;\n",
       "    }\n",
       "</style>\n",
       "<table border=\"1\" class=\"dataframe\">\n",
       "  <thead>\n",
       "    <tr style=\"text-align: right;\">\n",
       "      <th></th>\n",
       "      <th>Date</th>\n",
       "      <th>Year</th>\n",
       "      <th>Type</th>\n",
       "      <th>Country</th>\n",
       "      <th>Area</th>\n",
       "      <th>Location</th>\n",
       "      <th>Activity</th>\n",
       "      <th>Name</th>\n",
       "      <th>Sex</th>\n",
       "      <th>Age</th>\n",
       "      <th>Injury</th>\n",
       "      <th>Fatal (Y/N)</th>\n",
       "      <th>Time</th>\n",
       "      <th>Species</th>\n",
       "      <th>Investigator or Source</th>\n",
       "      <th>pdf</th>\n",
       "      <th>original order</th>\n",
       "      <th>Unnamed: 22</th>\n",
       "      <th>Unnamed: 23</th>\n",
       "    </tr>\n",
       "  </thead>\n",
       "  <tbody>\n",
       "    <tr>\n",
       "      <th>4415</th>\n",
       "      <td>30-Mar-1952</td>\n",
       "      <td>1952.0</td>\n",
       "      <td>Unprovoked</td>\n",
       "      <td>NETHERLANDS ANTILLES</td>\n",
       "      <td>Curacao</td>\n",
       "      <td>NaN</td>\n",
       "      <td>Went to aid of child being menaced by the shark</td>\n",
       "      <td>A.J. Eggink</td>\n",
       "      <td>M</td>\n",
       "      <td>NaN</td>\n",
       "      <td>Buttock bitten, tissue removed</td>\n",
       "      <td>N</td>\n",
       "      <td>NaN</td>\n",
       "      <td>Bull shark, 2.7 m [9'] was captured &amp; dragged ...</td>\n",
       "      <td>J. Randall, p.352 in Sharks &amp; Survival; H.D. B...</td>\n",
       "      <td>1952.03.30-Eggink.pdf</td>\n",
       "      <td>1888.0</td>\n",
       "      <td>NaN</td>\n",
       "      <td>Teramo</td>\n",
       "    </tr>\n",
       "    <tr>\n",
       "      <th>5840</th>\n",
       "      <td>Reported 14-Sep-1878</td>\n",
       "      <td>1878.0</td>\n",
       "      <td>Provoked</td>\n",
       "      <td>USA</td>\n",
       "      <td>Connecticut</td>\n",
       "      <td>Branford, New Haven County</td>\n",
       "      <td>Fishing</td>\n",
       "      <td>Captain Pattison</td>\n",
       "      <td>M</td>\n",
       "      <td>NaN</td>\n",
       "      <td>Leg bitten by netted shark PROVOKED INCIDENT</td>\n",
       "      <td>N</td>\n",
       "      <td>NaN</td>\n",
       "      <td>NaN</td>\n",
       "      <td>St. Joseph Herald, 9/14/1878</td>\n",
       "      <td>1878.09.14.R-Pattison.pdf</td>\n",
       "      <td>463.0</td>\n",
       "      <td>NaN</td>\n",
       "      <td>change filename</td>\n",
       "    </tr>\n",
       "  </tbody>\n",
       "</table>\n",
       "</div>"
      ],
      "text/plain": [
       "                      Date    Year        Type               Country  \\\n",
       "4415           30-Mar-1952  1952.0  Unprovoked  NETHERLANDS ANTILLES   \n",
       "5840  Reported 14-Sep-1878  1878.0    Provoked                   USA   \n",
       "\n",
       "             Area                    Location  \\\n",
       "4415      Curacao                         NaN   \n",
       "5840  Connecticut  Branford, New Haven County   \n",
       "\n",
       "                                             Activity              Name Sex  \\\n",
       "4415  Went to aid of child being menaced by the shark       A.J. Eggink   M   \n",
       "5840                                          Fishing  Captain Pattison   M   \n",
       "\n",
       "      Age                                        Injury Fatal (Y/N) Time  \\\n",
       "4415  NaN                Buttock bitten, tissue removed           N  NaN   \n",
       "5840  NaN  Leg bitten by netted shark PROVOKED INCIDENT           N  NaN   \n",
       "\n",
       "                                                Species  \\\n",
       "4415  Bull shark, 2.7 m [9'] was captured & dragged ...   \n",
       "5840                                                NaN   \n",
       "\n",
       "                                 Investigator or Source  \\\n",
       "4415  J. Randall, p.352 in Sharks & Survival; H.D. B...   \n",
       "5840                       St. Joseph Herald, 9/14/1878   \n",
       "\n",
       "                            pdf  original order Unnamed: 22      Unnamed: 23  \n",
       "4415      1952.03.30-Eggink.pdf          1888.0         NaN           Teramo  \n",
       "5840  1878.09.14.R-Pattison.pdf           463.0         NaN  change filename  "
      ]
     },
     "metadata": {},
     "output_type": "display_data"
    }
   ],
   "source": [
    "display(attack[attack[\"Unnamed: 23\"].notna()])"
   ]
  },
  {
   "cell_type": "markdown",
   "id": "38a3cf3a-a42d-414c-a9c1-0c8aadbc3e1f",
   "metadata": {},
   "source": [
    "Elimino ambas:"
   ]
  },
  {
   "cell_type": "code",
   "execution_count": 303,
   "id": "abc12333-a7e8-40e5-b72c-eb14a40a33a3",
   "metadata": {},
   "outputs": [
    {
     "data": {
      "text/html": [
       "<div>\n",
       "<style scoped>\n",
       "    .dataframe tbody tr th:only-of-type {\n",
       "        vertical-align: middle;\n",
       "    }\n",
       "\n",
       "    .dataframe tbody tr th {\n",
       "        vertical-align: top;\n",
       "    }\n",
       "\n",
       "    .dataframe thead th {\n",
       "        text-align: right;\n",
       "    }\n",
       "</style>\n",
       "<table border=\"1\" class=\"dataframe\">\n",
       "  <thead>\n",
       "    <tr style=\"text-align: right;\">\n",
       "      <th></th>\n",
       "      <th>Date</th>\n",
       "      <th>Year</th>\n",
       "      <th>Type</th>\n",
       "      <th>Country</th>\n",
       "      <th>Area</th>\n",
       "      <th>Location</th>\n",
       "      <th>Activity</th>\n",
       "      <th>Name</th>\n",
       "      <th>Sex</th>\n",
       "      <th>Age</th>\n",
       "      <th>Injury</th>\n",
       "      <th>Fatal (Y/N)</th>\n",
       "      <th>Time</th>\n",
       "      <th>Species</th>\n",
       "      <th>Investigator or Source</th>\n",
       "      <th>pdf</th>\n",
       "      <th>original order</th>\n",
       "    </tr>\n",
       "  </thead>\n",
       "  <tbody>\n",
       "    <tr>\n",
       "      <th>1483</th>\n",
       "      <td>04-May-2006</td>\n",
       "      <td>2006.0</td>\n",
       "      <td>Unprovoked</td>\n",
       "      <td>USA</td>\n",
       "      <td>Florida</td>\n",
       "      <td>Hutchinson Island, St. Lucie County</td>\n",
       "      <td>Swimming</td>\n",
       "      <td>Rachel King</td>\n",
       "      <td>F</td>\n",
       "      <td>20s</td>\n",
       "      <td>2 lacerations on lower right leg</td>\n",
       "      <td>N</td>\n",
       "      <td>16h30</td>\n",
       "      <td>NaN</td>\n",
       "      <td>TCPalm.com, 5/4/2006</td>\n",
       "      <td>2006.05.04-King.pdf</td>\n",
       "      <td>4820.0</td>\n",
       "    </tr>\n",
       "  </tbody>\n",
       "</table>\n",
       "</div>"
      ],
      "text/plain": [
       "             Date    Year        Type Country     Area  \\\n",
       "1483  04-May-2006  2006.0  Unprovoked     USA  Florida   \n",
       "\n",
       "                                 Location  Activity         Name Sex  Age  \\\n",
       "1483  Hutchinson Island, St. Lucie County  Swimming  Rachel King   F  20s   \n",
       "\n",
       "                                Injury Fatal (Y/N)   Time Species  \\\n",
       "1483  2 lacerations on lower right leg           N  16h30     NaN   \n",
       "\n",
       "     Investigator or Source                  pdf  original order  \n",
       "1483  TCPalm.com, 5/4/2006   2006.05.04-King.pdf          4820.0  "
      ]
     },
     "execution_count": 303,
     "metadata": {},
     "output_type": "execute_result"
    }
   ],
   "source": [
    "attack.drop(columns=[\"Unnamed: 22\",\"Unnamed: 23\"],inplace=True)\n",
    "attack.sample()"
   ]
  },
  {
   "cell_type": "markdown",
   "id": "8fcd47e0-7e78-4752-8df2-2a0b52552b3a",
   "metadata": {},
   "source": [
    "### Null Values"
   ]
  },
  {
   "cell_type": "markdown",
   "id": "767397bc-4815-4398-b35c-85b6626a20e9",
   "metadata": {},
   "source": [
    "Antes de analizar qué hacer con casos complejos, voy a eliminar la/s filas que tienen todos sus valores nulos."
   ]
  },
  {
   "cell_type": "code",
   "execution_count": 304,
   "id": "a38f1997-1fad-462a-baa6-acea726057c5",
   "metadata": {},
   "outputs": [
    {
     "data": {
      "text/plain": [
       "Date                        10\n",
       "Year                        12\n",
       "Type                        14\n",
       "Country                     60\n",
       "Area                       465\n",
       "Location                   550\n",
       "Activity                   554\n",
       "Name                       220\n",
       "Sex                        575\n",
       "Age                       2841\n",
       "Injury                      38\n",
       "Fatal (Y/N)                549\n",
       "Time                      3364\n",
       "Species                   2848\n",
       "Investigator or Source      27\n",
       "pdf                         10\n",
       "original order               3\n",
       "dtype: int64"
      ]
     },
     "execution_count": 304,
     "metadata": {},
     "output_type": "execute_result"
    }
   ],
   "source": [
    "attack.isna().sum()"
   ]
  },
  {
   "cell_type": "code",
   "execution_count": 305,
   "id": "ae6a65fc-4d52-41e8-a976-fa1c8763d172",
   "metadata": {},
   "outputs": [],
   "source": [
    "attack.dropna(axis=0, inplace=True, how=\"all\") #Otra forma sería con thresh=1 en lugar de how=\"all\""
   ]
  },
  {
   "cell_type": "code",
   "execution_count": 306,
   "id": "5fb5dc3e-6a14-4447-aff6-ddc463b605ef",
   "metadata": {},
   "outputs": [
    {
     "data": {
      "text/plain": [
       "Date                         7\n",
       "Year                         9\n",
       "Type                        11\n",
       "Country                     57\n",
       "Area                       462\n",
       "Location                   547\n",
       "Activity                   551\n",
       "Name                       217\n",
       "Sex                        572\n",
       "Age                       2838\n",
       "Injury                      35\n",
       "Fatal (Y/N)                546\n",
       "Time                      3361\n",
       "Species                   2845\n",
       "Investigator or Source      24\n",
       "pdf                          7\n",
       "original order               0\n",
       "dtype: int64"
      ]
     },
     "execution_count": 306,
     "metadata": {},
     "output_type": "execute_result"
    }
   ],
   "source": [
    "attack.isna().sum()"
   ]
  },
  {
   "cell_type": "markdown",
   "id": "38b116a1-d128-43d3-bf67-6eb8ef5309aa",
   "metadata": {},
   "source": [
    "Viendo los datos anteriores se ve que se borraron únicamente 3 filas. A priori se podría pensar que si ya borramos las filas duplicadas, debería quedar como máximo una sola fila todos sus valores NaN, pero esto no es cierto ya que esas filas se consideran únicas, es decir, no se eliminan con .drop_duplicates()."
   ]
  },
  {
   "cell_type": "markdown",
   "id": "19d1ab91-bd42-4e34-bda5-35e02e019678",
   "metadata": {},
   "source": [
    "Analicemos la columna Year ya que puede tener datos muy antiguos/poco confiables"
   ]
  },
  {
   "cell_type": "code",
   "execution_count": 307,
   "id": "c535a87e-6ccf-4da8-8e9a-7608a83cf6d2",
   "metadata": {},
   "outputs": [
    {
     "name": "stdout",
     "output_type": "stream",
     "text": [
      "[2018. 2017.   nan 2016. 2015. 2014. 2013. 2012. 2011. 2010. 2009. 2008.\n",
      " 2007. 2006. 2005. 2004. 2003. 2002. 2001. 2000. 1999. 1998. 1997. 1996.\n",
      " 1995. 1984. 1994. 1993. 1992. 1991. 1990. 1989. 1969. 1988. 1987. 1986.\n",
      " 1985. 1983. 1982. 1981. 1980. 1979. 1978. 1977. 1976. 1975. 1974. 1973.\n",
      " 1972. 1971. 1970. 1968. 1967. 1966. 1965. 1964. 1963. 1962. 1961. 1960.\n",
      " 1959. 1958. 1957. 1956. 1955. 1954. 1953. 1952. 1951. 1950. 1949. 1948.\n",
      " 1848. 1947. 1946. 1945. 1944. 1943. 1942. 1941. 1940. 1939. 1938. 1937.\n",
      " 1936. 1935. 1934. 1933. 1932. 1931. 1930. 1929. 1928. 1927. 1926. 1925.\n",
      " 1924. 1923. 1922. 1921. 1920. 1919. 1918. 1917. 1916. 1915. 1914. 1913.\n",
      " 1912. 1911. 1910. 1909. 1908. 1907. 1906. 1905. 1904. 1903. 1902. 1901.\n",
      " 1900. 1899. 1898. 1897. 1896. 1895. 1894. 1893. 1892. 1891. 1890. 1889.\n",
      " 1888. 1887. 1886. 1885. 1884. 1883. 1882. 1881. 1880. 1879. 1878. 1877.\n",
      " 1876. 1875. 1874. 1873. 1872. 1871. 1870. 1869. 1868. 1867. 1866. 1865.\n",
      " 1864. 1863. 1862. 1861. 1860. 1859. 1858. 1857. 1856. 1855. 1853. 1852.\n",
      " 1851. 1850. 1849. 1847. 1846. 1845. 1844. 1842. 1841. 1840. 1839. 1837.\n",
      " 1836. 1835. 1834. 1832. 1831. 1830. 1829. 1828. 1827. 1826. 1825. 1823.\n",
      " 1822. 1819. 1818. 1817. 1816. 1815. 1812. 1811. 1810. 1808. 1807. 1805.\n",
      " 1804. 1803. 1802. 1801. 1800. 1797. 1792. 1791. 1788. 1787. 1786. 1785.\n",
      " 1784. 1783. 1780. 1779. 1776. 1771. 1767. 1764. 1758. 1753. 1751. 1749.\n",
      " 1755. 1748. 1742. 1738. 1733. 1723. 1721. 1703. 1700. 1642. 1638. 1637.\n",
      " 1617. 1595. 1580. 1555. 1554. 1543.  500.   77.    5.    0.]\n"
     ]
    }
   ],
   "source": [
    "print(attack.Year.unique())"
   ]
  },
  {
   "cell_type": "markdown",
   "id": "4f28408d-d670-4935-a03b-18432bf75c7c",
   "metadata": {},
   "source": [
    "Se van a eliminar las filas correspondientes a los años: 0; 5; 77 y 500, por ser outliers y datos demasiado antiguos (datos cercanos al año 0, son mucho menos confiables que los más actuales) respecto al resto de los datos. A su vez se va a borrar el NaN que está entre el 2016 y el 2017."
   ]
  },
  {
   "cell_type": "code",
   "execution_count": 308,
   "id": "aae7ef8c-0e18-4f2b-932a-068517db2600",
   "metadata": {},
   "outputs": [
    {
     "name": "stdout",
     "output_type": "stream",
     "text": [
      "[2018. 2017. 2016. 2015. 2014. 2013. 2012. 2011. 2010. 2009. 2008. 2007.\n",
      " 2006. 2005. 2004. 2003. 2002. 2001. 2000. 1999. 1998. 1997. 1996. 1995.\n",
      " 1984. 1994. 1993. 1992. 1991. 1990. 1989. 1969. 1988. 1987. 1986. 1985.\n",
      " 1983. 1982. 1981. 1980. 1979. 1978. 1977. 1976. 1975. 1974. 1973. 1972.\n",
      " 1971. 1970. 1968. 1967. 1966. 1965. 1964. 1963. 1962. 1961. 1960. 1959.\n",
      " 1958. 1957. 1956. 1955. 1954. 1953. 1952. 1951. 1950. 1949. 1948. 1848.\n",
      " 1947. 1946. 1945. 1944. 1943. 1942. 1941. 1940. 1939. 1938. 1937. 1936.\n",
      " 1935. 1934. 1933. 1932. 1931. 1930. 1929. 1928. 1927. 1926. 1925. 1924.\n",
      " 1923. 1922. 1921. 1920. 1919. 1918. 1917. 1916. 1915. 1914. 1913. 1912.\n",
      " 1911. 1910. 1909. 1908. 1907. 1906. 1905. 1904. 1903. 1902. 1901. 1900.\n",
      " 1899. 1898. 1897. 1896. 1895. 1894. 1893. 1892. 1891. 1890. 1889. 1888.\n",
      " 1887. 1886. 1885. 1884. 1883. 1882. 1881. 1880. 1879. 1878. 1877. 1876.\n",
      " 1875. 1874. 1873. 1872. 1871. 1870. 1869. 1868. 1867. 1866. 1865. 1864.\n",
      " 1863. 1862. 1861. 1860. 1859. 1858. 1857. 1856. 1855. 1853. 1852. 1851.\n",
      " 1850. 1849. 1847. 1846. 1845. 1844. 1842. 1841. 1840. 1839. 1837. 1836.\n",
      " 1835. 1834. 1832. 1831. 1830. 1829. 1828. 1827. 1826. 1825. 1823. 1822.\n",
      " 1819. 1818. 1817. 1816. 1815. 1812. 1811. 1810. 1808. 1807. 1805. 1804.\n",
      " 1803. 1802. 1801. 1800. 1797. 1792. 1791. 1788. 1787. 1786. 1785. 1784.\n",
      " 1783. 1780. 1779. 1776. 1771. 1767. 1764. 1758. 1753. 1751. 1749. 1755.\n",
      " 1748. 1742. 1738. 1733. 1723. 1721. 1703. 1700. 1642. 1638. 1637. 1617.\n",
      " 1595. 1580. 1555. 1554. 1543.]\n"
     ]
    }
   ],
   "source": [
    "attack = attack.loc[~((attack['Year'] == 0) | (attack['Year'] == 5) | (attack['Year'] == 77) | (attack['Year'] == 500) | (np.isnan(attack['Year'])))]\n",
    "print(attack.Year.unique())"
   ]
  },
  {
   "cell_type": "markdown",
   "id": "79b58ba1-1cf6-4f3a-8a98-b5ea45b55e34",
   "metadata": {},
   "source": [
    "Veamos que columnas nos están quedando por el momento:"
   ]
  },
  {
   "cell_type": "code",
   "execution_count": 309,
   "id": "2dc989bb-42f2-464f-9a1d-a7402ec2a3f0",
   "metadata": {},
   "outputs": [
    {
     "data": {
      "text/plain": [
       "Index(['Date', 'Year', 'Type', 'Country', 'Area', 'Location', 'Activity',\n",
       "       'Name', 'Sex', 'Age', 'Injury', 'Fatal (Y/N)', 'Time', 'Species',\n",
       "       'Investigator or Source', 'pdf', 'original order'],\n",
       "      dtype='object')"
      ]
     },
     "execution_count": 309,
     "metadata": {},
     "output_type": "execute_result"
    }
   ],
   "source": [
    "attack.columns"
   ]
  },
  {
   "cell_type": "markdown",
   "id": "64f47450-4059-4a57-90cc-fa63e24dbd36",
   "metadata": {},
   "source": [
    "Continuamos con eliminar ciertas columnas que no aportan información para el posterior análisis. Muchas de las siguientes pueden ser útiles para otros análisis (no son como lo son las columnas unnamed en los DataFrames, que generalmente no aportan información)."
   ]
  },
  {
   "cell_type": "code",
   "execution_count": 310,
   "id": "b9239734-49fb-45d2-8ec9-13ad1c36907d",
   "metadata": {},
   "outputs": [],
   "source": [
    "attack.drop(columns=[\"Area\",\"Location\", \"Name\", \"pdf\", \"original order\",\"Date\",\"Time\"], inplace=True)"
   ]
  },
  {
   "cell_type": "code",
   "execution_count": 311,
   "id": "37cd133d-5cf1-4154-b8ca-b981d028d996",
   "metadata": {},
   "outputs": [
    {
     "data": {
      "text/html": [
       "<div>\n",
       "<style scoped>\n",
       "    .dataframe tbody tr th:only-of-type {\n",
       "        vertical-align: middle;\n",
       "    }\n",
       "\n",
       "    .dataframe tbody tr th {\n",
       "        vertical-align: top;\n",
       "    }\n",
       "\n",
       "    .dataframe thead th {\n",
       "        text-align: right;\n",
       "    }\n",
       "</style>\n",
       "<table border=\"1\" class=\"dataframe\">\n",
       "  <thead>\n",
       "    <tr style=\"text-align: right;\">\n",
       "      <th></th>\n",
       "      <th>Year</th>\n",
       "      <th>Type</th>\n",
       "      <th>Country</th>\n",
       "      <th>Activity</th>\n",
       "      <th>Sex</th>\n",
       "      <th>Age</th>\n",
       "      <th>Injury</th>\n",
       "      <th>Fatal (Y/N)</th>\n",
       "      <th>Species</th>\n",
       "      <th>Investigator or Source</th>\n",
       "    </tr>\n",
       "  </thead>\n",
       "  <tbody>\n",
       "    <tr>\n",
       "      <th>1614</th>\n",
       "      <td>2005.0</td>\n",
       "      <td>Unprovoked</td>\n",
       "      <td>CUBA</td>\n",
       "      <td>Swimming</td>\n",
       "      <td>M</td>\n",
       "      <td>19</td>\n",
       "      <td>Left foot severed</td>\n",
       "      <td>N</td>\n",
       "      <td>3 m [10'] shark</td>\n",
       "      <td>Cuba News</td>\n",
       "    </tr>\n",
       "  </tbody>\n",
       "</table>\n",
       "</div>"
      ],
      "text/plain": [
       "        Year        Type Country  Activity Sex Age             Injury  \\\n",
       "1614  2005.0  Unprovoked    CUBA  Swimming   M  19  Left foot severed   \n",
       "\n",
       "     Fatal (Y/N)          Species Investigator or Source  \n",
       "1614           N  3 m [10'] shark              Cuba News  "
      ]
     },
     "execution_count": 311,
     "metadata": {},
     "output_type": "execute_result"
    }
   ],
   "source": [
    "attack.sample()"
   ]
  },
  {
   "cell_type": "markdown",
   "id": "54721cb3-b087-4ff1-b0b9-92c4fa1bbffd",
   "metadata": {},
   "source": [
    "## **Análisis**:"
   ]
  },
  {
   "cell_type": "markdown",
   "id": "4b8b0715-1494-45bf-a35f-48768ef30860",
   "metadata": {},
   "source": [
    "#### **Hipótesis 1**: Los ataques disminuyeron con el paso de los años"
   ]
  },
  {
   "cell_type": "markdown",
   "id": "afe6da20-ef22-44a1-aae0-5dce59489710",
   "metadata": {
    "tags": []
   },
   "source": [
    "Me basé en que la gente se fue volviendo más consciente con el paso del tiempo y se fueron creando métodos preventivos de ataques de tiburones, como por ejemplo redes en playas australianas que evitan que los tiburones ingresen a la zona en la que se bañan las personas. Para estudiar la validez de esta hipótesis me voy a tomar un subset del nuevo Dataframe \"attack\" que resultó de aplicarle una limpieza al original. Luego, al propio subset se le va a hacer una limpieza más específica."
   ]
  },
  {
   "cell_type": "markdown",
   "id": "b4126993-b1b2-40ac-918c-5f1ffbeb17a0",
   "metadata": {},
   "source": [
    "Subset de interés: subset_h1"
   ]
  },
  {
   "cell_type": "markdown",
   "id": "a80a334d-4648-4ecc-aa75-8e568fde748a",
   "metadata": {},
   "source": [
    "Queremos borrar los nulos en el subset, y para eso haremos una copia del mismo para que solo se borren los nulos en la copia, pero antes renombremos la variable 'Fatal (Y/N)' para simplificar próximos códigos:"
   ]
  },
  {
   "cell_type": "code",
   "execution_count": 312,
   "id": "ce969413-4d4d-41db-b266-701edd2d9901",
   "metadata": {
    "tags": []
   },
   "outputs": [],
   "source": [
    "attack.rename(columns={\"Fatal (Y/N)\":\"Fatal\"}, inplace=True)"
   ]
  },
  {
   "cell_type": "code",
   "execution_count": 313,
   "id": "d60f82ef-0040-423a-bc63-763fc8bfc36b",
   "metadata": {},
   "outputs": [
    {
     "data": {
      "text/html": [
       "<div>\n",
       "<style scoped>\n",
       "    .dataframe tbody tr th:only-of-type {\n",
       "        vertical-align: middle;\n",
       "    }\n",
       "\n",
       "    .dataframe tbody tr th {\n",
       "        vertical-align: top;\n",
       "    }\n",
       "\n",
       "    .dataframe thead th {\n",
       "        text-align: right;\n",
       "    }\n",
       "</style>\n",
       "<table border=\"1\" class=\"dataframe\">\n",
       "  <thead>\n",
       "    <tr style=\"text-align: right;\">\n",
       "      <th></th>\n",
       "      <th>Year</th>\n",
       "      <th>Fatal</th>\n",
       "    </tr>\n",
       "  </thead>\n",
       "  <tbody>\n",
       "    <tr>\n",
       "      <th>0</th>\n",
       "      <td>2018.0</td>\n",
       "      <td>N</td>\n",
       "    </tr>\n",
       "    <tr>\n",
       "      <th>1</th>\n",
       "      <td>2018.0</td>\n",
       "      <td>N</td>\n",
       "    </tr>\n",
       "    <tr>\n",
       "      <th>2</th>\n",
       "      <td>2018.0</td>\n",
       "      <td>N</td>\n",
       "    </tr>\n",
       "    <tr>\n",
       "      <th>3</th>\n",
       "      <td>2018.0</td>\n",
       "      <td>N</td>\n",
       "    </tr>\n",
       "    <tr>\n",
       "      <th>4</th>\n",
       "      <td>2018.0</td>\n",
       "      <td>N</td>\n",
       "    </tr>\n",
       "    <tr>\n",
       "      <th>...</th>\n",
       "      <td>...</td>\n",
       "      <td>...</td>\n",
       "    </tr>\n",
       "    <tr>\n",
       "      <th>6169</th>\n",
       "      <td>1595.0</td>\n",
       "      <td>UNKNOWN</td>\n",
       "    </tr>\n",
       "    <tr>\n",
       "      <th>6170</th>\n",
       "      <td>1580.0</td>\n",
       "      <td>Y</td>\n",
       "    </tr>\n",
       "    <tr>\n",
       "      <th>6171</th>\n",
       "      <td>1555.0</td>\n",
       "      <td>UNKNOWN</td>\n",
       "    </tr>\n",
       "    <tr>\n",
       "      <th>6172</th>\n",
       "      <td>1554.0</td>\n",
       "      <td>UNKNOWN</td>\n",
       "    </tr>\n",
       "    <tr>\n",
       "      <th>6173</th>\n",
       "      <td>1543.0</td>\n",
       "      <td>Y</td>\n",
       "    </tr>\n",
       "  </tbody>\n",
       "</table>\n",
       "<p>6172 rows × 2 columns</p>\n",
       "</div>"
      ],
      "text/plain": [
       "        Year    Fatal\n",
       "0     2018.0        N\n",
       "1     2018.0        N\n",
       "2     2018.0        N\n",
       "3     2018.0        N\n",
       "4     2018.0        N\n",
       "...      ...      ...\n",
       "6169  1595.0  UNKNOWN\n",
       "6170  1580.0        Y\n",
       "6171  1555.0  UNKNOWN\n",
       "6172  1554.0  UNKNOWN\n",
       "6173  1543.0        Y\n",
       "\n",
       "[6172 rows x 2 columns]"
      ]
     },
     "execution_count": 313,
     "metadata": {},
     "output_type": "execute_result"
    }
   ],
   "source": [
    "subset_h1=attack[[\"Year\",\"Fatal\"]].copy()\n",
    "subset_h1"
   ]
  },
  {
   "cell_type": "code",
   "execution_count": 314,
   "id": "4156a2f5-2fb0-4781-8be7-226222941f8b",
   "metadata": {},
   "outputs": [],
   "source": [
    "subset_h1.dropna(axis=0, inplace=True) #Eliminación de nulos."
   ]
  },
  {
   "cell_type": "code",
   "execution_count": 315,
   "id": "f25ff005-28ab-4a50-a740-a2508665eea1",
   "metadata": {},
   "outputs": [
    {
     "data": {
      "text/plain": [
       "Year     0\n",
       "Fatal    0\n",
       "dtype: int64"
      ]
     },
     "execution_count": 315,
     "metadata": {},
     "output_type": "execute_result"
    }
   ],
   "source": [
    "subset_h1.isna().sum() #Comprobación de que no quedan nulos."
   ]
  },
  {
   "cell_type": "markdown",
   "id": "226c327d-d0af-415a-b760-aaa3d2abb858",
   "metadata": {},
   "source": [
    "Para estudiar el comportamiento de los ataques a lo largo del tiempo se van a realizar algunas gráficas. Para ello, interesa que la columna 'Fatal' tenga como valores únicos: Y y N (Yes y No, respectivamente), pues son los únicos parámetros que admite esta variable ya que estaban en el nombre original (\"Fatal (Y/N)\"). Veamos qué valores únicos tiene actualmente:"
   ]
  },
  {
   "cell_type": "code",
   "execution_count": 316,
   "id": "5edd9f69-68b4-416a-86c3-d395c08a1b26",
   "metadata": {},
   "outputs": [
    {
     "data": {
      "text/plain": [
       "array(['N', 'Y', 'M', 'UNKNOWN', '2017', ' N', 'N ', 'y'], dtype=object)"
      ]
     },
     "execution_count": 316,
     "metadata": {},
     "output_type": "execute_result"
    }
   ],
   "source": [
    "subset_h1[\"Fatal\"].unique()"
   ]
  },
  {
   "cell_type": "markdown",
   "id": "9c7c9d26-87b4-4d19-8fdc-32d549511c7f",
   "metadata": {},
   "source": [
    "Se van a pasar todos los valores a mayúsculas para poder agrupar las \"Y\" con las \"y\", y también se le quitarán los espacios que aparezcan antes y después de las \"N\" para poder agruparlas y poder eliminar las filas que contengan los otros valores (por ejemplo \"2017\")."
   ]
  },
  {
   "cell_type": "code",
   "execution_count": 317,
   "id": "be15bc05-ac9d-44ce-8a19-6f3a227509b9",
   "metadata": {},
   "outputs": [
    {
     "name": "stdout",
     "output_type": "stream",
     "text": [
      "['N' 'Y']\n"
     ]
    }
   ],
   "source": [
    "subset_h1['Fatal']=subset_h1['Fatal'].str.upper() #Conversión a mayúsculas\n",
    "subset_h1['Fatal']=subset_h1['Fatal'].replace({' N':'N', 'N ':'N', '':'Y'}) #Reemplazo de nombres\n",
    "subset_h1_limpio=subset_h1[(subset_h1['Fatal']=='N')|(subset_h1['Fatal']=='Y')] #Que solo aparezcan valores \"Y\" y \"N\"\n",
    "print(subset_h1_limpio['Fatal'].unique())"
   ]
  },
  {
   "cell_type": "code",
   "execution_count": 318,
   "id": "059ed039-e28e-4831-a735-02a99eb67526",
   "metadata": {},
   "outputs": [
    {
     "data": {
      "text/plain": [
       "<bound method DataFrame.value_counts of         Year Fatal\n",
       "0     2018.0     N\n",
       "1     2018.0     N\n",
       "2     2018.0     N\n",
       "3     2018.0     N\n",
       "4     2018.0     N\n",
       "...      ...   ...\n",
       "6162  1700.0     N\n",
       "6163  1700.0     Y\n",
       "6168  1642.0     Y\n",
       "6170  1580.0     Y\n",
       "6173  1543.0     Y\n",
       "\n",
       "[5563 rows x 2 columns]>"
      ]
     },
     "execution_count": 318,
     "metadata": {},
     "output_type": "execute_result"
    }
   ],
   "source": [
    "subset_h1_limpio.value_counts"
   ]
  },
  {
   "cell_type": "markdown",
   "id": "8c081c52-9572-45c8-9297-d937db5d6d63",
   "metadata": {},
   "source": [
    "Se procede a realizar una gráfica de Ataques de tiburones por año (desde el año 1800 en adelante porque previo a dicho año, los ataques registrados son despreciables frente a los del post 1800):"
   ]
  },
  {
   "cell_type": "code",
   "execution_count": 319,
   "id": "1346bbfb-70da-4951-b739-5aee60f7077b",
   "metadata": {},
   "outputs": [
    {
     "data": {
      "image/png": "[encoded data removed]",
      "text/plain": [
       "<Figure size 1000x600 with 1 Axes>"
      ]
     },
     "metadata": {},
     "output_type": "display_data"
    }
   ],
   "source": [
    "subset_h1_limpio.loc[:, \"Year\"] = subset_h1_limpio[\"Year\"].astype(int)\n",
    "subset_h1_limpio = subset_h1_limpio[subset_h1_limpio[\"Year\"] >= 1800]\n",
    "attacks_per_year = subset_h1_limpio.groupby(\"Year\").size()\n",
    "\n",
    "attacks_per_year.plot(kind=\"line\", color=\"blue\", figsize=(10, 6))\n",
    "plt.title(\"Attacks per Year\")\n",
    "plt.xlabel(\"Year\")\n",
    "plt.ylabel(\"Number of Attacks\")\n",
    "plt.grid(True)\n",
    "\n",
    "plt.savefig(\"attacks_per_year.png\")\n",
    "plt.show()"
   ]
  },
  {
   "cell_type": "markdown",
   "id": "ddea1db7-6a6a-4c49-a56f-917686e25ce3",
   "metadata": {},
   "source": [
    "Del gráfico superior se puede ver que no solo no se cumple la hipótesis planteada (Hipótesis 1), sino que el resultado es prácticamente opuesto. Esto puede deberse a diversos factores, entre ellos: \n",
    "1) En los años más cercanos al 1800, probablemente se tomaban muchos menos registros de los ataques reales. Quizás por falta de tecnología o falta de interés en el análisis.\n",
    "   \n",
    "2) Por otro lado, la población mundial viene en aumento, por lo que si el comportamiento de los humanos y el de los tiburones se mantiene relativamente constante en el tiempo, la cantidad de ataques va a aumentar. Simplemente por \"un tema de números\". A su vez, si la población se está incrementando, en particular el turismo también aumenta. Si el turismo en cierto tipo de playas en los que habite el animal aumenta, entonces probablemente los ataques aumenten.\n",
    "\n",
    "3) El hecho de que haya calentamiento global también podría estar afectando. El aumento de la temperatura oceánica genera que en ciertas zonas los tiburones se desplacen hacia zonas más frías. Esa migración puede generar que tengan menos comida e incluso estrés. Eso puede llevar a que los tiburones sean más agresivos y por lo tanto aumenten los ataques. \n"
   ]
  },
  {
   "cell_type": "markdown",
   "id": "deb5c734-cf07-477e-8411-599e306f20a8",
   "metadata": {
    "tags": []
   },
   "source": [
    "Ahora interesa realizar un gráfico similar, pero en lugar de poner ataques en general, poner ataques letales. Esto es importante para poder determinar que tan peligroso es el animal y por ende que las personas que se encuentren en un entorno de riesgo (estando cerca de los tiburones) tomen las medidas de seguridad apropiadas. \n",
    "\n",
    "En caso de que el animal causara pocas muertes, las medidas de seguridad probablemente no serían las mismas.\n",
    "\n",
    "Volviendo al gráfico de interés, para poder realizarlo es necesario imponerle al subset anterior que la variable \"Fatal\" solo tome valores: \"Y\" (Yes), es decir, los casos de muertes."
   ]
  },
  {
   "cell_type": "code",
   "execution_count": 320,
   "id": "e24706f4-f03d-42ad-956c-98b8771566a5",
   "metadata": {},
   "outputs": [],
   "source": [
    "subset_h1_limpio_letal=subset_h1_limpio[subset_h1_limpio[\"Fatal\"]==\"Y\"]"
   ]
  },
  {
   "cell_type": "code",
   "execution_count": 321,
   "id": "9e3142bd-7e75-4006-ae28-f3b898096c28",
   "metadata": {},
   "outputs": [
    {
     "name": "stdout",
     "output_type": "stream",
     "text": [
      "['Y']\n"
     ]
    }
   ],
   "source": [
    "print(subset_h1_limpio_letal[\"Fatal\"].unique())"
   ]
  },
  {
   "cell_type": "code",
   "execution_count": 322,
   "id": "1e9787d0-c260-4f78-816d-49df81134356",
   "metadata": {},
   "outputs": [
    {
     "data": {
      "text/plain": [
       "Year    Fatal\n",
       "1959.0  Y        24\n",
       "1956.0  Y        21\n",
       "1958.0  Y        18\n",
       "2000.0  Y        18\n",
       "1944.0  Y        17\n",
       "                 ..\n",
       "1842.0  Y         1\n",
       "1848.0  Y         1\n",
       "1857.0  Y         1\n",
       "1859.0  Y         1\n",
       "2018.0  Y         1\n",
       "Name: count, Length: 194, dtype: int64"
      ]
     },
     "execution_count": 322,
     "metadata": {},
     "output_type": "execute_result"
    }
   ],
   "source": [
    "subset_h1_limpio_letal.value_counts()"
   ]
  },
  {
   "cell_type": "code",
   "execution_count": 323,
   "id": "57948fee-ac23-4296-894f-ada40c3c7f82",
   "metadata": {
    "tags": []
   },
   "outputs": [
    {
     "data": {
      "image/png": "[encoded data removed]",
      "text/plain": [
       "<Figure size 1000x600 with 1 Axes>"
      ]
     },
     "metadata": {},
     "output_type": "display_data"
    }
   ],
   "source": [
    "deaths_by_year = subset_h1_filtrado[subset_h1_filtrado['Fatal'] == 'Y'].groupby('Year').size()\n",
    "\n",
    "plt.figure(figsize=(10, 6))\n",
    "deaths_by_year.plot(kind=\"line\", color=\"red\")\n",
    "plt.title(\"Deaths Over the Years (1900 - Present)\")\n",
    "plt.xlabel(\"Year\")\n",
    "plt.ylabel(\"Number of Deaths\")\n",
    "plt.grid(True)\n",
    "\n",
    "plt.xticks(np.arange(1900, max(deaths_by_year.index) + 1, 20)) #Step 20=años\n",
    "\n",
    "plt.savefig(\"deaths_per_year.png\")\n",
    "plt.show()"
   ]
  },
  {
   "cell_type": "markdown",
   "id": "8167b596-96d8-4b72-97ea-07fdb585d608",
   "metadata": {
    "tags": []
   },
   "source": [
    "El gráfico anterior está referido al período entre el año 1900 hasta el 2018. Se tomó esa determinación porque si se hacía desde el 1800 en adelante, parecería que tuviera líneas veritcales y no quedaba tan claro de visualizar. También se cambió el step en el eje de los años también por un tema visual (step=20años). "
   ]
  },
  {
   "cell_type": "markdown",
   "id": "85a55986-8e11-48a0-83a2-416319946a27",
   "metadata": {
    "tags": []
   },
   "source": [
    "Finalmente se quiere superponer ambos gráficos en un mismo plot para poder apreciar/estimar, de manera intuitiva (es decir, sin cálculos), qué tan probable era morir si te atacaba un tiburón. "
   ]
  },
  {
   "cell_type": "code",
   "execution_count": 324,
   "id": "c273524b-c36f-4ae0-9daf-b78453b7d774",
   "metadata": {},
   "outputs": [
    {
     "data": {
      "image/png": "[encoded data removed]",
      "text/plain": [
       "<Figure size 1000x600 with 1 Axes>"
      ]
     },
     "metadata": {},
     "output_type": "display_data"
    }
   ],
   "source": [
    "attacks_per_year = attacks_per_year[attacks_per_year.index >= 1900]\n",
    "deaths_by_year = deaths_by_year[deaths_by_year.index >= 1900]\n",
    "attacks_per_year.plot(kind=\"line\", color=\"blue\", figsize=(10, 6), label=\"Attacks\")\n",
    "deaths_by_year.plot(kind=\"line\", color=\"red\", label=\"Deaths\")\n",
    "plt.title(\"Attacks and Deaths Over the Years (1900 - Present)\")\n",
    "plt.xlabel(\"Year\")\n",
    "plt.ylabel(\"Count\")\n",
    "\n",
    "\n",
    "plt.legend()\n",
    "plt.grid(True)\n",
    "plt.savefig(\"attacks_and_deaths_per_year.png\")\n",
    "plt.show()"
   ]
  },
  {
   "cell_type": "markdown",
   "id": "eb1d7156-6914-4faa-879d-cdd6d1c9d4b0",
   "metadata": {},
   "source": [
    "Del gráfico anterior se puede observar que la curva roja siempre está comlpetamente por debajo de la azul. Esto tiene sentido ya que las muertes son un caso particular de los ataques (son ataques mortales). Por lo que para ningún año se puede dar que hayan más muertes que ataques. Que se haya cumplido dicha condición, le da cierta credibilidad a los datos del DataFrame. \n",
    "\n",
    "Otra observación es que la cantidad de muertes a lo largo del siglo XX tiene una tendencia a ser constante. No tiene valores que estén demasiado desviados de la media. Sin embargo, la cantidad de ataques tiene una tendencia clara a aumentar. Esto indica que con el paso del tiempo, el porcentaje de *ataques letales/ataques generales* por cada año, disminuye en gran medida. Eso nos muestra que la mayoría de los ataques de estas últimas décadas no fueron letales. Yo creo que esto se debe en gran parte a los avances en medicina. Generalmente, en los ataques de tiburones se desprende mucha sangre de la víctima, puede haber amputaciones, daño en algún órgano, etc. El hecho de tener una medicina mucho mas avanzada que la que había en los años más proximos al 1900, hace una gran diferencia. También se da que en la actualidad, la gente tiene una mayor consciencia que antes debido a la gran cantidad de información que hay disponible (parte será debida a aprender de experiencias negativas, estudios biológicos, etc). Esto (además de ayudar en prevención de ataques) hace que la gente sepa cómo reaccionar frente a un ataque con mayor claridad que antes, generando que el porcentaje de muertos sobre ataques totales sea mucho menor del que había a principios del siglo."
   ]
  },
  {
   "cell_type": "markdown",
   "id": "a365cc8f-8e38-41d6-8541-504ac6f4cb99",
   "metadata": {},
   "source": [
    "A continuación se va a hacer otra representación de la gráfica anterior. Me resulta muy claro visualizar este tipo de análisis temporales en gráficas de líneas como las presentadas anteriormente. Sin embargo, veo que esas gráficas no quedaron muy estéticas y por eso decidí hacer una nueva. Luego la analizaremos porque puede que obtengamos información que no podamos apreciar en las anteriores.  "
   ]
  },
  {
   "cell_type": "code",
   "execution_count": 325,
   "id": "ae7aa73e-585f-4423-bb94-3a8dfca06b5f",
   "metadata": {},
   "outputs": [
    {
     "data": {
      "image/png": "[encoded data removed]",
      "text/plain": [
       "<Figure size 1000x600 with 1 Axes>"
      ]
     },
     "metadata": {},
     "output_type": "display_data"
    }
   ],
   "source": [
    "combined_data = pd.DataFrame({\"Attacks\": attacks_per_year, 'Deaths': deaths_by_year})\n",
    "\n",
    "\n",
    "plt.figure(figsize=(10, 6))\n",
    "combined_data.boxplot(vert=False, widths=0.7, patch_artist=True, medianprops=dict(color=\"blue\"), boxprops=dict(facecolor=\"lightblue\", color=\"blue\"), whiskerprops=dict(color=\"blue\"), capprops=dict(color=\"blue\"), flierprops=dict(marker=\"o\", markersize=5, markerfacecolor=\"blue\"), notch=True, positions=[0, 1])\n",
    "plt.title(\"Boxplot of Attacks and Deaths Over the Years (1900 - Present)\")\n",
    "plt.xlabel(\"Count\")\n",
    "plt.ylabel(\"Category\")\n",
    "plt.grid(True)\n",
    "\n",
    "#Quise mantener los colores rojo y azul que se utilizaron para las gráficas anteriores para no generar confusiones.\n",
    "\n",
    "plt.gca().patches[1].set_facecolor(\"red\")\n",
    "plt.savefig(\"boxplot.png\")\n",
    "\n",
    "plt.show()"
   ]
  },
  {
   "cell_type": "markdown",
   "id": "5f79f1a5-af9b-41cd-ac75-07f4acf10e23",
   "metadata": {},
   "source": [
    "El BoxPlot que se encuentra arriba no aporta mucha información nueva al análisis. Pero sí ayuda a visualizar los outliers. Sobre todo los de la gráfica de Deaths. Viendo la gráfica de deaths en la representación de líneas, no queda tan claro si tiene outliers, pero acá en el Boxplot se ven los 2 valores claramente. También se puede observar que la gráfica de ataques tiene varios outliers: alrededor de 1960 y cerca de la actualidad. Sinceramente no se a que se puede deber. Capaz que simplemente fue casualidad."
   ]
  },
  {
   "cell_type": "markdown",
   "id": "0bf11275-02f2-425a-ab9f-0b90285e40eb",
   "metadata": {},
   "source": [
    "#### **Hipótesis 2**: Muerieron más hombres que mujeres"
   ]
  },
  {
   "cell_type": "markdown",
   "id": "7e4f8dbd-2752-4df9-a733-aa03952e2083",
   "metadata": {},
   "source": [
    "Primero, quiero hacer una hipótesis dentro de la Hipótesis 2: el DataFrame da información únicamente sobre 2 géneros: F y M. Es una interpretación mia en base a los valores únicos que toma la columna \"Sex\". Creo que más allá de las interpretaciones/definiciones que existan sobre los géneros, corresponde trabajar solo con los géneros F y M pues se entiende que son de los que habla el DataFrame.\n",
    "\n",
    "Ahora, volviendo a la Hipótesis 2, si bien en general los hombres son más fuertes y nadan más rápido que las mujeres, creo que eso no es relevante debido a que la diferencia física entre los 2 géneros es despreciable frente a las habilidades de un tiburón. Entiendo que los hombres son más deportistas y al mismo tiempo más inconscientes que las mujeres por lo que creo que habrán mucho más encuentros tiburón-hombre que tiburón-mujer, por lo tanto supongo que habrán más muertes de hombres.\n",
    "\n"
   ]
  },
  {
   "cell_type": "markdown",
   "id": "c06420d6-c9bc-42ba-b2e2-ddc51911f98d",
   "metadata": {},
   "source": [
    "Al igual que con la Hipótesis 1, vamos a crear un nuevo subset para trabajar con mayor comodidad y para poder borrar filas que contengan nulos debido a que se va a usar una copia, el DataFrame original no va a ver afectado."
   ]
  },
  {
   "cell_type": "code",
   "execution_count": 326,
   "id": "0dd78ccc-2b37-4a19-a1d8-ee51801ffd5b",
   "metadata": {},
   "outputs": [
    {
     "data": {
      "text/html": [
       "<div>\n",
       "<style scoped>\n",
       "    .dataframe tbody tr th:only-of-type {\n",
       "        vertical-align: middle;\n",
       "    }\n",
       "\n",
       "    .dataframe tbody tr th {\n",
       "        vertical-align: top;\n",
       "    }\n",
       "\n",
       "    .dataframe thead th {\n",
       "        text-align: right;\n",
       "    }\n",
       "</style>\n",
       "<table border=\"1\" class=\"dataframe\">\n",
       "  <thead>\n",
       "    <tr style=\"text-align: right;\">\n",
       "      <th></th>\n",
       "      <th>Sex</th>\n",
       "      <th>Fatal</th>\n",
       "    </tr>\n",
       "  </thead>\n",
       "  <tbody>\n",
       "    <tr>\n",
       "      <th>0</th>\n",
       "      <td>F</td>\n",
       "      <td>N</td>\n",
       "    </tr>\n",
       "    <tr>\n",
       "      <th>1</th>\n",
       "      <td>F</td>\n",
       "      <td>N</td>\n",
       "    </tr>\n",
       "    <tr>\n",
       "      <th>2</th>\n",
       "      <td>M</td>\n",
       "      <td>N</td>\n",
       "    </tr>\n",
       "    <tr>\n",
       "      <th>3</th>\n",
       "      <td>M</td>\n",
       "      <td>N</td>\n",
       "    </tr>\n",
       "    <tr>\n",
       "      <th>4</th>\n",
       "      <td>M</td>\n",
       "      <td>N</td>\n",
       "    </tr>\n",
       "    <tr>\n",
       "      <th>...</th>\n",
       "      <td>...</td>\n",
       "      <td>...</td>\n",
       "    </tr>\n",
       "    <tr>\n",
       "      <th>6169</th>\n",
       "      <td>M</td>\n",
       "      <td>UNKNOWN</td>\n",
       "    </tr>\n",
       "    <tr>\n",
       "      <th>6170</th>\n",
       "      <td>M</td>\n",
       "      <td>Y</td>\n",
       "    </tr>\n",
       "    <tr>\n",
       "      <th>6171</th>\n",
       "      <td>M</td>\n",
       "      <td>UNKNOWN</td>\n",
       "    </tr>\n",
       "    <tr>\n",
       "      <th>6172</th>\n",
       "      <td>M</td>\n",
       "      <td>UNKNOWN</td>\n",
       "    </tr>\n",
       "    <tr>\n",
       "      <th>6173</th>\n",
       "      <td>M</td>\n",
       "      <td>Y</td>\n",
       "    </tr>\n",
       "  </tbody>\n",
       "</table>\n",
       "<p>6172 rows × 2 columns</p>\n",
       "</div>"
      ],
      "text/plain": [
       "     Sex    Fatal\n",
       "0      F        N\n",
       "1      F        N\n",
       "2      M        N\n",
       "3      M        N\n",
       "4      M        N\n",
       "...   ..      ...\n",
       "6169   M  UNKNOWN\n",
       "6170   M        Y\n",
       "6171   M  UNKNOWN\n",
       "6172   M  UNKNOWN\n",
       "6173   M        Y\n",
       "\n",
       "[6172 rows x 2 columns]"
      ]
     },
     "execution_count": 326,
     "metadata": {},
     "output_type": "execute_result"
    }
   ],
   "source": [
    "subset_h2=attack[[\"Sex\",\"Fatal\"]].copy()\n",
    "subset_h2"
   ]
  },
  {
   "cell_type": "code",
   "execution_count": 327,
   "id": "174498b2-5970-4035-a67d-dfe1b12040e3",
   "metadata": {},
   "outputs": [],
   "source": [
    "subset_h2.dropna(axis=0, inplace=True) #Eliminación de nulos (se cargaron 1000 filas aprox)"
   ]
  },
  {
   "cell_type": "code",
   "execution_count": 328,
   "id": "7b7672de-0ecd-4d7b-b88e-12f8047c5c29",
   "metadata": {},
   "outputs": [
    {
     "data": {
      "text/html": [
       "<div>\n",
       "<style scoped>\n",
       "    .dataframe tbody tr th:only-of-type {\n",
       "        vertical-align: middle;\n",
       "    }\n",
       "\n",
       "    .dataframe tbody tr th {\n",
       "        vertical-align: top;\n",
       "    }\n",
       "\n",
       "    .dataframe thead th {\n",
       "        text-align: right;\n",
       "    }\n",
       "</style>\n",
       "<table border=\"1\" class=\"dataframe\">\n",
       "  <thead>\n",
       "    <tr style=\"text-align: right;\">\n",
       "      <th></th>\n",
       "      <th>Sex</th>\n",
       "      <th>Fatal</th>\n",
       "    </tr>\n",
       "  </thead>\n",
       "  <tbody>\n",
       "    <tr>\n",
       "      <th>0</th>\n",
       "      <td>F</td>\n",
       "      <td>N</td>\n",
       "    </tr>\n",
       "    <tr>\n",
       "      <th>1</th>\n",
       "      <td>F</td>\n",
       "      <td>N</td>\n",
       "    </tr>\n",
       "    <tr>\n",
       "      <th>2</th>\n",
       "      <td>M</td>\n",
       "      <td>N</td>\n",
       "    </tr>\n",
       "    <tr>\n",
       "      <th>3</th>\n",
       "      <td>M</td>\n",
       "      <td>N</td>\n",
       "    </tr>\n",
       "    <tr>\n",
       "      <th>4</th>\n",
       "      <td>M</td>\n",
       "      <td>N</td>\n",
       "    </tr>\n",
       "    <tr>\n",
       "      <th>...</th>\n",
       "      <td>...</td>\n",
       "      <td>...</td>\n",
       "    </tr>\n",
       "    <tr>\n",
       "      <th>6169</th>\n",
       "      <td>M</td>\n",
       "      <td>UNKNOWN</td>\n",
       "    </tr>\n",
       "    <tr>\n",
       "      <th>6170</th>\n",
       "      <td>M</td>\n",
       "      <td>Y</td>\n",
       "    </tr>\n",
       "    <tr>\n",
       "      <th>6171</th>\n",
       "      <td>M</td>\n",
       "      <td>UNKNOWN</td>\n",
       "    </tr>\n",
       "    <tr>\n",
       "      <th>6172</th>\n",
       "      <td>M</td>\n",
       "      <td>UNKNOWN</td>\n",
       "    </tr>\n",
       "    <tr>\n",
       "      <th>6173</th>\n",
       "      <td>M</td>\n",
       "      <td>Y</td>\n",
       "    </tr>\n",
       "  </tbody>\n",
       "</table>\n",
       "<p>5156 rows × 2 columns</p>\n",
       "</div>"
      ],
      "text/plain": [
       "     Sex    Fatal\n",
       "0      F        N\n",
       "1      F        N\n",
       "2      M        N\n",
       "3      M        N\n",
       "4      M        N\n",
       "...   ..      ...\n",
       "6169   M  UNKNOWN\n",
       "6170   M        Y\n",
       "6171   M  UNKNOWN\n",
       "6172   M  UNKNOWN\n",
       "6173   M        Y\n",
       "\n",
       "[5156 rows x 2 columns]"
      ]
     },
     "execution_count": 328,
     "metadata": {},
     "output_type": "execute_result"
    }
   ],
   "source": [
    "subset_h2"
   ]
  },
  {
   "cell_type": "markdown",
   "id": "8e0c75f6-23ab-4894-91c8-aa7c6b2e0b32",
   "metadata": {},
   "source": [
    "Análogo a lo que se hizo con la Hipótesis 1, vamos a quedarnos sólo con los valores únicos F y M. Además, también hay que volver a aplicárselo a \"Fatal\" porque el subset anterior era una copia y esta es otra que también se extrajo del original."
   ]
  },
  {
   "cell_type": "markdown",
   "id": "a823e99e-1577-41f2-a716-2e3db73124d3",
   "metadata": {},
   "source": [
    "Luego de realizar dichos cambios, vamos a graficar simplemente el número de muertes por cada género y ver si se cumple la hipótesis."
   ]
  },
  {
   "cell_type": "code",
   "execution_count": 329,
   "id": "cbadc150-e903-4cd1-83ef-eafb5ecb1376",
   "metadata": {},
   "outputs": [
    {
     "data": {
      "text/plain": [
       "array(['N', 'Y', 'M', 'UNKNOWN', '2017', ' N', 'y'], dtype=object)"
      ]
     },
     "execution_count": 329,
     "metadata": {},
     "output_type": "execute_result"
    }
   ],
   "source": [
    "subset_h2[\"Fatal\"].unique()"
   ]
  },
  {
   "cell_type": "code",
   "execution_count": 330,
   "id": "071e5606-233a-43ef-b1f7-65a4c86648bf",
   "metadata": {},
   "outputs": [
    {
     "data": {
      "text/plain": [
       "array(['F', 'M', 'M ', 'lli', 'N', '.'], dtype=object)"
      ]
     },
     "execution_count": 330,
     "metadata": {},
     "output_type": "execute_result"
    }
   ],
   "source": [
    "subset_h2[\"Sex\"].unique()"
   ]
  },
  {
   "cell_type": "code",
   "execution_count": 331,
   "id": "eac3df10-f42f-4e57-937e-e8ee3257031c",
   "metadata": {},
   "outputs": [
    {
     "data": {
      "image/png": "[encoded data removed]",
      "text/plain": [
       "<Figure size 640x480 with 1 Axes>"
      ]
     },
     "metadata": {},
     "output_type": "display_data"
    }
   ],
   "source": [
    "subset_h2['Sex'] = subset_h2['Sex'].str.strip().replace({'M ': 'M', 'lli': pd.NA, 'N': pd.NA, '.': pd.NA})\n",
    "\n",
    "subset_h2['Fatal'] = subset_h2['Fatal'].str.strip().str.upper().replace({'UNKNOWN': pd.NA, '2017': pd.NA, 'N': 'N', 'Y': 'Y', 'Y ': 'Y'})\n",
    "subset_h2.dropna(subset=['Sex', 'Fatal'], inplace=True)\n",
    "\n",
    "deaths_by_gender = subset_h2[subset_h2['Fatal'] == 'Y'].groupby('Sex').size()\n",
    "\n",
    "\n",
    "deaths_by_gender.plot(kind='bar', color=['#FF1493', 'blue'])\n",
    "plt.title('Number of Fatalities by Gender')\n",
    "plt.xlabel('Gender')\n",
    "plt.ylabel('Number of Fatalities')\n",
    "plt.xticks(rotation=0)\n",
    "plt.savefig(\"fatalities_by_gender.png\")\n",
    "plt.show()"
   ]
  },
  {
   "cell_type": "markdown",
   "id": "a08a47f7-ff00-4e7c-abc4-2522c55ccf76",
   "metadata": {},
   "source": [
    "Claramente se puede ver que la muerte de los hombres supera por un gran margen a la de las mujeres. La cantidad de muertes masculinas es cerca de ser 10 veces más que la cantidad femenina, por lo que se estaría validando la Hipótesis 2. Al parecer, para ver la probabilidad de morir que tiene un individuo estando en zona de riesgo frente a un posible ataque del animal, es claro que la actividad que realiza el individuo tiene una ponderación mucho mayor a la que pueda tener el género. Es decir, un factor muy importante es la actividad que uno realice y no tanto las habilidades físicas del individuo. Porque como mencionaba en la hipótesis, tener un poco más de fuerza que una mujer, no te va a ayudar demasiado frente a un tiburón (a excepción de casos en los que el tiburón es pequeño o similar. Igualmente, si el tiburón decide atacar al humano, posiblemente sea porque el tiburón intuye que lo puede superar en la pelea, sino, difícilmente se involucraría). \n",
    "\n",
    "Algo que podría ser interesante, es hacer este mismo análisis pero con algún animal que no sea tan superior a un humano en un combate digamos. Porque ahí el hecho de que en general el hombre sea más fuerte, podría tener un peso relevante, no como el que tiene en este análisis de ataque de tiburones.\n",
    "\n",
    "Hay muchos otros factores que pueden influir como la inteligencia, miedo, reflejos, entre otros, pero es muy difícil de poder incluirlos basándonos en este DataFrame que no habla sobre las capacidades del humano atacado."
   ]
  },
  {
   "cell_type": "markdown",
   "id": "a299c552-1a94-4dd5-88ce-6d9fb0b6feef",
   "metadata": {},
   "source": [
    "Decidí agregar otra gráfica a este análisis que incluya la provocación del humano hacia el animal, separándolo por género nuevamente. Me pareció interesante ya que parte de la hipótesis decía que el hombre en general es más inconsciente/arriesgado que la mujer. Es muy complejo poder determinar esto porque hay ataques que se consideran provoked y son de boating por ejemplo. Ahí en general el hombre no estaría realizando ninguna locura pero igual se cuenta como ataque provocado. De todas formas, viendo los porcentajes de la gráfica presentada a continuación, se puede ver que el hombre es menos cuidadoso que la mujer, al menos en este tipo de situaciones acuáticas."
   ]
  },
  {
   "cell_type": "code",
   "execution_count": 332,
   "id": "79bfa1eb-31ff-4834-9d85-1eb3475515ff",
   "metadata": {},
   "outputs": [
    {
     "data": {
      "image/png": "[encoded data removed]",
      "text/plain": [
       "<Figure size 640x480 with 1 Axes>"
      ]
     },
     "metadata": {},
     "output_type": "display_data"
    }
   ],
   "source": [
    "subset_h2['Type'] = attack.loc[subset_h2.index, 'Type']\n",
    "subset_h2['Sex'] = subset_h2['Sex'].str.strip().replace({'M ': 'M', 'lli': pd.NA, 'N': pd.NA, '.': pd.NA})\n",
    "subset_h2['Fatal'] = subset_h2['Fatal'].str.strip().str.upper().replace({'UNKNOWN': pd.NA, '2017': pd.NA, 'N': 'N', 'Y': 'Y', 'Y ': 'Y'})\n",
    "subset_h2.dropna(subset=['Sex', 'Fatal', 'Type'], inplace=True)\n",
    "provoked_unprovoked_by_gender = subset_h2.groupby(['Sex', 'Type']).size().unstack(fill_value=0)\n",
    "provoked_unprovoked_by_gender = provoked_unprovoked_by_gender[['Unprovoked', 'Provoked']]\n",
    "totals = provoked_unprovoked_by_gender.sum(axis=1)\n",
    "provoked_unprovoked_by_gender_perc = provoked_unprovoked_by_gender.divide(totals, axis=0) * 100\n",
    "#Ya se habían realizado algunos replace y están puestos nuevamente de forma innecesaria, pero no genera problemas. \n",
    "#Se utilizó ayuda de Internet para poder realizar este plot.\n",
    "\n",
    "ax = provoked_unprovoked_by_gender_perc.plot(kind='bar', stacked=True, color=['blue', 'red'], alpha=0.7)\n",
    "\n",
    "\n",
    "for p in ax.patches:\n",
    "    width, height = p.get_width(), p.get_height()\n",
    "    x, y = p.get_xy()\n",
    "    ax.annotate(f'{height:.1f}%', (x + width / 2, y + height / 2), ha='center', va='center')\n",
    "\n",
    "plt.title('Percentage of Provoked and Unprovoked Attacks by Gender')\n",
    "plt.xlabel('Gender')\n",
    "plt.ylabel('Percentage of Attacks')\n",
    "plt.xticks(rotation=0)\n",
    "plt.legend(title='Type', loc='center right', bbox_to_anchor=(1.25, 0.5), labels=['Unprovoked', 'Provoked'])\n",
    "plt.savefig(\"provoked_unprovoked_by_gender.png\")\n",
    "plt.show()"
   ]
  },
  {
   "cell_type": "markdown",
   "id": "43935346-cc02-40de-9e12-3aa60960179a",
   "metadata": {},
   "source": [
    "#### **Hipótesis 3**: El tiburón blanco es la especie más agresiva."
   ]
  },
  {
   "cell_type": "markdown",
   "id": "fd401e90-4cc4-4211-929d-a7a7e0794198",
   "metadata": {},
   "source": [
    "Por último, se quiere estudiar la agresividad que tiene el tiburón blanco comparado con otras especies. Es un dicho que todos hemos oido alguna vez y resulta interesante analizar los datos para ver si es cierto o si es un mito. Vamos a realizar el procedimiento habitual de crear un subset, entre otras cosas y luego graficar resultados. "
   ]
  },
  {
   "cell_type": "code",
   "execution_count": 333,
   "id": "919db4f6-72fb-4171-9cb8-400fd26e5454",
   "metadata": {},
   "outputs": [
    {
     "data": {
      "text/html": [
       "<div>\n",
       "<style scoped>\n",
       "    .dataframe tbody tr th:only-of-type {\n",
       "        vertical-align: middle;\n",
       "    }\n",
       "\n",
       "    .dataframe tbody tr th {\n",
       "        vertical-align: top;\n",
       "    }\n",
       "\n",
       "    .dataframe thead th {\n",
       "        text-align: right;\n",
       "    }\n",
       "</style>\n",
       "<table border=\"1\" class=\"dataframe\">\n",
       "  <thead>\n",
       "    <tr style=\"text-align: right;\">\n",
       "      <th></th>\n",
       "      <th>Year</th>\n",
       "      <th>Type</th>\n",
       "      <th>Country</th>\n",
       "      <th>Activity</th>\n",
       "      <th>Sex</th>\n",
       "      <th>Age</th>\n",
       "      <th>Injury</th>\n",
       "      <th>Fatal</th>\n",
       "      <th>Species</th>\n",
       "      <th>Investigator or Source</th>\n",
       "    </tr>\n",
       "  </thead>\n",
       "  <tbody>\n",
       "    <tr>\n",
       "      <th>5872</th>\n",
       "      <td>1876.0</td>\n",
       "      <td>Unprovoked</td>\n",
       "      <td>AUSTRALIA</td>\n",
       "      <td>NaN</td>\n",
       "      <td>M</td>\n",
       "      <td>NaN</td>\n",
       "      <td>FATAL, \"his side was  bitten\"</td>\n",
       "      <td>Y</td>\n",
       "      <td>NaN</td>\n",
       "      <td>G.P. Whitley (1951), p.192</td>\n",
       "    </tr>\n",
       "  </tbody>\n",
       "</table>\n",
       "</div>"
      ],
      "text/plain": [
       "        Year        Type    Country Activity Sex  Age  \\\n",
       "5872  1876.0  Unprovoked  AUSTRALIA      NaN   M  NaN   \n",
       "\n",
       "                             Injury Fatal Species      Investigator or Source  \n",
       "5872  FATAL, \"his side was  bitten\"     Y     NaN  G.P. Whitley (1951), p.192  "
      ]
     },
     "execution_count": 333,
     "metadata": {},
     "output_type": "execute_result"
    }
   ],
   "source": [
    "attack.sample()"
   ]
  },
  {
   "cell_type": "markdown",
   "id": "d4ab0edc-eec7-4f1a-aa58-60d6bda6a150",
   "metadata": {},
   "source": [
    "Muertes por especie:"
   ]
  },
  {
   "cell_type": "code",
   "execution_count": 334,
   "id": "e7248bd1-ae2f-48d3-acc1-4aa04068acd4",
   "metadata": {},
   "outputs": [
    {
     "data": {
      "text/html": [
       "<div>\n",
       "<style scoped>\n",
       "    .dataframe tbody tr th:only-of-type {\n",
       "        vertical-align: middle;\n",
       "    }\n",
       "\n",
       "    .dataframe tbody tr th {\n",
       "        vertical-align: top;\n",
       "    }\n",
       "\n",
       "    .dataframe thead th {\n",
       "        text-align: right;\n",
       "    }\n",
       "</style>\n",
       "<table border=\"1\" class=\"dataframe\">\n",
       "  <thead>\n",
       "    <tr style=\"text-align: right;\">\n",
       "      <th></th>\n",
       "      <th>Year</th>\n",
       "      <th>Type</th>\n",
       "      <th>Fatal</th>\n",
       "      <th>Species</th>\n",
       "    </tr>\n",
       "  </thead>\n",
       "  <tbody>\n",
       "    <tr>\n",
       "      <th>0</th>\n",
       "      <td>2018.0</td>\n",
       "      <td>Boating</td>\n",
       "      <td>N</td>\n",
       "      <td>White shark</td>\n",
       "    </tr>\n",
       "    <tr>\n",
       "      <th>1</th>\n",
       "      <td>2018.0</td>\n",
       "      <td>Unprovoked</td>\n",
       "      <td>N</td>\n",
       "      <td>NaN</td>\n",
       "    </tr>\n",
       "    <tr>\n",
       "      <th>2</th>\n",
       "      <td>2018.0</td>\n",
       "      <td>Invalid</td>\n",
       "      <td>N</td>\n",
       "      <td>NaN</td>\n",
       "    </tr>\n",
       "    <tr>\n",
       "      <th>3</th>\n",
       "      <td>2018.0</td>\n",
       "      <td>Unprovoked</td>\n",
       "      <td>N</td>\n",
       "      <td>2 m shark</td>\n",
       "    </tr>\n",
       "    <tr>\n",
       "      <th>4</th>\n",
       "      <td>2018.0</td>\n",
       "      <td>Provoked</td>\n",
       "      <td>N</td>\n",
       "      <td>Tiger shark, 3m</td>\n",
       "    </tr>\n",
       "    <tr>\n",
       "      <th>...</th>\n",
       "      <td>...</td>\n",
       "      <td>...</td>\n",
       "      <td>...</td>\n",
       "      <td>...</td>\n",
       "    </tr>\n",
       "    <tr>\n",
       "      <th>6169</th>\n",
       "      <td>1595.0</td>\n",
       "      <td>Unprovoked</td>\n",
       "      <td>UNKNOWN</td>\n",
       "      <td>NaN</td>\n",
       "    </tr>\n",
       "    <tr>\n",
       "      <th>6170</th>\n",
       "      <td>1580.0</td>\n",
       "      <td>Unprovoked</td>\n",
       "      <td>Y</td>\n",
       "      <td>NaN</td>\n",
       "    </tr>\n",
       "    <tr>\n",
       "      <th>6171</th>\n",
       "      <td>1555.0</td>\n",
       "      <td>Unprovoked</td>\n",
       "      <td>UNKNOWN</td>\n",
       "      <td>NaN</td>\n",
       "    </tr>\n",
       "    <tr>\n",
       "      <th>6172</th>\n",
       "      <td>1554.0</td>\n",
       "      <td>Unprovoked</td>\n",
       "      <td>UNKNOWN</td>\n",
       "      <td>Possibly white sharks</td>\n",
       "    </tr>\n",
       "    <tr>\n",
       "      <th>6173</th>\n",
       "      <td>1543.0</td>\n",
       "      <td>Unprovoked</td>\n",
       "      <td>Y</td>\n",
       "      <td>NaN</td>\n",
       "    </tr>\n",
       "  </tbody>\n",
       "</table>\n",
       "<p>6172 rows × 4 columns</p>\n",
       "</div>"
      ],
      "text/plain": [
       "        Year        Type    Fatal                Species\n",
       "0     2018.0     Boating        N            White shark\n",
       "1     2018.0  Unprovoked        N                    NaN\n",
       "2     2018.0     Invalid        N                    NaN\n",
       "3     2018.0  Unprovoked        N              2 m shark\n",
       "4     2018.0    Provoked        N        Tiger shark, 3m\n",
       "...      ...         ...      ...                    ...\n",
       "6169  1595.0  Unprovoked  UNKNOWN                    NaN\n",
       "6170  1580.0  Unprovoked        Y                    NaN\n",
       "6171  1555.0  Unprovoked  UNKNOWN                    NaN\n",
       "6172  1554.0  Unprovoked  UNKNOWN  Possibly white sharks\n",
       "6173  1543.0  Unprovoked        Y                    NaN\n",
       "\n",
       "[6172 rows x 4 columns]"
      ]
     },
     "execution_count": 334,
     "metadata": {},
     "output_type": "execute_result"
    }
   ],
   "source": [
    "subset_h3=attack[[\"Year\",\"Type\",\"Fatal\",\"Species\"]].copy()\n",
    "subset_h3"
   ]
  },
  {
   "cell_type": "code",
   "execution_count": 335,
   "id": "6db0c1fa-332b-4b82-bab6-8902ed7ff8ba",
   "metadata": {},
   "outputs": [],
   "source": [
    "subset_h3.dropna(axis=0, inplace=True) #Eliminación de nulos."
   ]
  },
  {
   "cell_type": "code",
   "execution_count": 336,
   "id": "3d57e480-f15d-4181-b67e-ac0132e61b9b",
   "metadata": {},
   "outputs": [
    {
     "data": {
      "text/plain": [
       "Year       0\n",
       "Type       0\n",
       "Fatal      0\n",
       "Species    0\n",
       "dtype: int64"
      ]
     },
     "execution_count": 336,
     "metadata": {},
     "output_type": "execute_result"
    }
   ],
   "source": [
    "subset_h3.isna().sum()"
   ]
  },
  {
   "cell_type": "code",
   "execution_count": 337,
   "id": "dba62826-a15c-44b9-9dc7-0e8207e5751d",
   "metadata": {},
   "outputs": [],
   "source": [
    "subset_h3[\"Species\"] = subset_h3[\"Species\"].replace({        #Con esto incluí algunos nombres que hacían referencia al White Shark.\n",
    "    \"White shark, 5 m to 6 m [16.5' to 20']\": \"White shark\",\n",
    "    \"Possibly a white shark\": \"White shark\",\n",
    "    \"Possibly white sharks\": \"White shark\",\n",
    "    \n",
    "})"
   ]
  },
  {
   "cell_type": "code",
   "execution_count": 338,
   "id": "8f17a070-78bf-493b-a446-c0a54ca2078f",
   "metadata": {},
   "outputs": [
    {
     "data": {
      "text/plain": [
       "Species\n",
       "White shark                     162\n",
       "Tiger shark                      70\n",
       "Bull shark                       47\n",
       "4' shark                         40\n",
       "6' shark                         39\n",
       "                               ... \n",
       "Bull shark, 2.3 m [7.5']          1\n",
       "0.9 m  [3'] shark                 1\n",
       "Mako shark, 14'                   1\n",
       "1.9 m [6.5'] bull shark           1\n",
       "White shark, 1600-lb female       1\n",
       "Name: count, Length: 1482, dtype: int64"
      ]
     },
     "execution_count": 338,
     "metadata": {},
     "output_type": "execute_result"
    }
   ],
   "source": [
    "subset_h3[\"Species\"].value_counts()"
   ]
  },
  {
   "cell_type": "markdown",
   "id": "88f5f776-ef12-4286-a19b-cf94d4c0f744",
   "metadata": {},
   "source": [
    "Voy a realizar una gráfica de barras horizontales (se leen mejor los nombres de los tiburones que en una gráfica vertical)."
   ]
  },
  {
   "cell_type": "code",
   "execution_count": 339,
   "id": "ff671469-cc12-4b78-b80d-1c6c3f8b5caf",
   "metadata": {},
   "outputs": [
    {
     "data": {
      "image/png": "[encoded data removed]",
      "text/plain": [
       "<Figure size 640x480 with 1 Axes>"
      ]
     },
     "metadata": {},
     "output_type": "display_data"
    }
   ],
   "source": [
    "ataques_=subset_h3[\"Species\"].value_counts()\n",
    "ataques_[ataques_>35].plot.barh(color=\"yellow\") \n",
    "plt.title(\"Number of attacks per species\")\n",
    "plt.xlabel(\"Number of attacks\")\n",
    "plt.savefig(\"attacks_per_species.png\")"
   ]
  },
  {
   "cell_type": "markdown",
   "id": "fc5d29e8-2961-419c-866f-8518ddba7fc1",
   "metadata": {},
   "source": [
    "En la representación presentada arriba, se puede ver el número de ataques de las 5 especies que tuvieron valores más altos. El tiburón blanco supera ampliamente a la cantidad de ataques del segundo (Tiger shark), y con un gran margen (más del doble de ataques). Para ver que tan agresivo es el animal, es importante ver nuevamente la relación entre ataques provocados y no provocados, por cada especie. Porque en teoría podría pasar que el tiburón blanco sea tranquilo pero justo la gente tienda a molestar especialmente a esa especie y por eso decidiera atacar. Para ver esto, veamos el siguiente diagrama:"
   ]
  },
  {
   "cell_type": "code",
   "execution_count": 340,
   "id": "1ac4cce8-90da-4c62-a0a5-9eb141e6df13",
   "metadata": {},
   "outputs": [
    {
     "data": {
      "text/plain": [
       "array(['Boating', 'Unprovoked', 'Invalid', 'Provoked', 'Questionable',\n",
       "       'Sea Disaster', nan, 'Boat', 'Boatomg'], dtype=object)"
      ]
     },
     "execution_count": 340,
     "metadata": {},
     "output_type": "execute_result"
    }
   ],
   "source": [
    "attack.Type.unique()"
   ]
  },
  {
   "cell_type": "code",
   "execution_count": 341,
   "id": "7e4deeca-c064-40e7-8358-917c4062a217",
   "metadata": {},
   "outputs": [
    {
     "data": {
      "image/png": "[encoded data removed]",
      "text/plain": [
       "<Figure size 1200x800 with 1 Axes>"
      ]
     },
     "metadata": {},
     "output_type": "display_data"
    }
   ],
   "source": [
    "attack_type_mapping = {          #Se clasifica el tipo de actividad entre provoked y unprovoked.\n",
    "    'Boating': 'Provoked',\n",
    "    'Unprovoked': 'Unprovoked',\n",
    "    'Invalid': 'Unprovoked',\n",
    "    'Provoked': 'Provoked',\n",
    "    'Questionable': 'Unprovoked',\n",
    "    'Sea Disaster': 'Unprovoked',\n",
    "    'Boat': 'Provoked',\n",
    "    'Boatomg': 'Provoked'\n",
    "}\n",
    "\n",
    "\n",
    "subset_h3[\"Provocation\"] = subset_h3[\"Type\"].map(attack_type_mapping)\n",
    "\n",
    "provoked_unprovoked_counts = subset_h3.groupby([\"Species\", \"Provocation\"]).size().unstack(fill_value=0)\n",
    "total_attacks = provoked_unprovoked_counts.sum(axis=1)\n",
    "top_5_species = total_attacks.nlargest(5).index #Las 5 especies con mayor cantidad de ataques. Se podía haber elegido otro valor. Fue a criterio personal\n",
    "provoked_unprovoked_counts_top5 = provoked_unprovoked_counts.loc[top_5_species]\n",
    "\n",
    "\n",
    "provoked_unprovoked_counts_top5.plot(kind=\"barh\", stacked=True, color=[\"blue\", \"orange\"], figsize=(12, 8))\n",
    "plt.title(\"Number of provoked and unprovoked attacks per species\")\n",
    "plt.xlabel(\"Number of Attacks\")\n",
    "plt.ylabel(\"\")\n",
    "plt.legend(title=\"Provocation\", loc=\"upper right\", labels=[\"Provoked\", \"Unprovoked\"])\n",
    "plt.savefig(\"provoked_unprovoked_species.png\")\n",
    "plt.show()"
   ]
  },
  {
   "cell_type": "markdown",
   "id": "453642ba-4daf-49d3-b274-f55371b1b13a",
   "metadata": {},
   "source": [
    "Se puede ver que si bien el tiburón blanco tiene un alto porcentaje de ataques provocados, el total de ataques no provocados es superior a los ataques de las otras especies (tanto provocados como no provocados). Por lo que se vuelve a confirmar la hipótesis sobre la agresividad del tiburón blanco."
   ]
  },
  {
   "cell_type": "markdown",
   "id": "a1032bcf-1556-4b9b-9774-cd375806bf44",
   "metadata": {},
   "source": [
    "También resulta de interés estudiar la fatalidad de dicha especie. Ya vimos que es la más agresiva, pero veamos qué porcentaje de los ataques terminan siendo letales:"
   ]
  },
  {
   "cell_type": "code",
   "execution_count": 342,
   "id": "4a74b357-a1f6-4672-a5c9-afd4c3ad2db5",
   "metadata": {},
   "outputs": [
    {
     "name": "stdout",
     "output_type": "stream",
     "text": [
      "The proportion of fatal attacks for the White Shark is: 27.16%\n"
     ]
    }
   ],
   "source": [
    "white_shark_attacks = subset_h3[subset_h3[\"Species\"] == \"White shark\"]\n",
    "\n",
    "fatal_attacks = white_shark_attacks[white_shark_attacks[\"Fatal\"] == \"Y\"]\n",
    "total_attacks = len(white_shark_attacks)\n",
    "fatal_attacks_count = len(fatal_attacks)\n",
    "proportion_fatal = fatal_attacks_count / total_attacks\n",
    "\n",
    "print(f\"The proportion of fatal attacks for the White Shark is: {proportion_fatal:.2%}\")"
   ]
  },
  {
   "cell_type": "markdown",
   "id": "0fd91da2-37b6-416a-96e7-b21d1775943f",
   "metadata": {},
   "source": [
    "El resultado dio 27.16%. Hubiera esperado un número mayor. Yo creo que si el tiburón cada vez que atacara tuviera intención de matar, el porcentaje sería bastante cercano a 100. Sin embargo, dio mucho menor. Quizás se puede interpretar que el tiburón blanco rara vez ataca a un humano para alimentarse."
   ]
  }
 ],
 "metadata": {
  "kernelspec": {
   "display_name": "Python 3 (ipykernel)",
   "language": "python",
   "name": "python3"
  },
  "language_info": {
   "codemirror_mode": {
    "name": "ipython",
    "version": 3
   },
   "file_extension": ".py",
   "mimetype": "text/x-python",
   "name": "python",
   "nbconvert_exporter": "python",
   "pygments_lexer": "ipython3",
   "version": "3.11.7"
  }
 },
 "nbformat": 4,
 "nbformat_minor": 5
}
